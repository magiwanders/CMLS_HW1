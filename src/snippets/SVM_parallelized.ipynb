{
  "nbformat": 4,
  "nbformat_minor": 0,
  "metadata": {
    "colab": {
      "name": "SVM_parallelized.ipynb",
      "provenance": [],
      "authorship_tag": "ABX9TyOKBNebKoMXqkSLX5vhY7Ax",
      "include_colab_link": true
    },
    "kernelspec": {
      "name": "python3",
      "display_name": "Python 3"
    },
    "language_info": {
      "name": "python"
    }
  },
  "cells": [
    {
      "cell_type": "markdown",
      "metadata": {
        "id": "view-in-github",
        "colab_type": "text"
      },
      "source": [
        "<a href=\"https://colab.research.google.com/github/magiwanders/CMLS_HW1/blob/master/src/snippets/SVM_parallelized.ipynb\" target=\"_parent\"><img src=\"https://colab.research.google.com/assets/colab-badge.svg\" alt=\"Open In Colab\"/></a>"
      ]
    },
    {
      "cell_type": "code",
      "metadata": {
        "colab": {
          "base_uri": "https://localhost:8080/",
          "height": 129
        },
        "id": "QAHpEah4C-tg",
        "outputId": "941e3753-3eea-4bae-adde-cc3a449c0bd1"
      },
      "source": [
        "# This is a wieframe for SVM \n",
        "#\n",
        "# dict_features -> ALL THE FEATURES\n",
        "# dict_features[i] -> FOLDER i (FOLDER = a list of 10 classes)\n",
        "# dict_features[i][j] -> CLASS j inside FOLDER i (CLASS = a list of samples)\n",
        "# dict_features[i][j][k] -> SAMPLE k of CLASS j inside FOLDER i (SAMPLE = a list of features)\n",
        "\n",
        "!pip install p_tqdm\n",
        "import numpy as np\n",
        "import time\n",
        "from tqdm import tqdm\n",
        "from p_tqdm import p_map\n",
        "\n",
        "# For reference\n",
        "classes = ['air_conditioner', \n",
        "           'car_horn', \n",
        "           'children_playing', \n",
        "           'dog_barking', \n",
        "           'drilling', \n",
        "           'engine_idling', \n",
        "           'gun_shot', \n",
        "           'jackhammer', \n",
        "           'siren', \n",
        "           'street_music']\n",
        "\n",
        "def arrayof(n, num):\n",
        "  if num==0:\n",
        "    return np.zeros(n,)\n",
        "  else:\n",
        "    return np.ones(n,)*num\n",
        "\n",
        "def cross_validator_step(test_folder_index):\n",
        "\n",
        "  # Should not be needed\n",
        "  # test_class = classes[test_folder_index]\n",
        "  # test_folder = dict_features[test_folder_index]\n",
        "  # train_folders = dict_features[dict_features!=test_folder]\n",
        "\n",
        "  x_train=[]\n",
        "  y_train=[]\n",
        "  x_test=[]\n",
        "  y_test=[]\n",
        "\n",
        "  # SEPARATE DATA INTO TRAIN AND TEST\n",
        "  # cycle folders\n",
        "  for i in np.arange(10):\n",
        "    # cycle classes\n",
        "    for j in np.arange(10):\n",
        "      # Select all samples from class j within folder i\n",
        "      samples = dict_features[i][j]\n",
        "      if i == test_folder_index:\n",
        "        x_test = np.concatenate((x_test, samples), axis=0)\n",
        "        y_test = np.concatenate((y_test, arrayof(samples.shape[0], j)), axis=0)\n",
        "      else:\n",
        "        x_train = np.concatenate((x_train, samples), axis=0)\n",
        "        y_train = np.concatenate((y_test, arrayof(samples.shape[0], j)), axis=0) \n",
        "    \n",
        "  # NORMALIZATION\n",
        "  feat_max = np.max(x_train, axis=0)\n",
        "  feat_min = np.min(x_train, axis=0)\n",
        "\n",
        "  x_train_norm = (x_train - feat_min) / (feat_max - feat_min)\n",
        "  x_test_norm = (x_test - feat_min) / (feat_max - feat_min)\n",
        "\n",
        "  # SVM\n",
        "  clf = sklearn.svm.SVC()\n",
        "\n",
        "  clf.fit(x_train_norm, y_train)\n",
        "\n",
        "  y_test_predicted = clf.predict(x_test_norm).reshape(-1, 1)\n",
        "\n",
        "  confusion_matrix = sklearn.metrics.confusion_matrix(y_test, y_test_predicted)\n",
        "\n",
        "\n",
        "\n",
        "if __name__ == '__main__':\n",
        "    out_parall = p_map(cross_validation_step, np.arange(10))\n"
      ],
      "execution_count": 10,
      "outputs": [
        {
          "output_type": "error",
          "ename": "SyntaxError",
          "evalue": "ignored",
          "traceback": [
            "\u001b[0;36m  File \u001b[0;32m\"<ipython-input-10-c0d595900999>\"\u001b[0;36m, line \u001b[0;32m26\u001b[0m\n\u001b[0;31m    dict_train_features[]\u001b[0m\n\u001b[0m                        ^\u001b[0m\n\u001b[0;31mSyntaxError\u001b[0m\u001b[0;31m:\u001b[0m invalid syntax\n"
          ]
        }
      ]
    }
  ]
}