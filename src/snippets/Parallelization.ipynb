{
  "nbformat": 4,
  "nbformat_minor": 0,
  "metadata": {
    "colab": {
      "name": "Parallelization.ipynb",
      "provenance": [],
      "authorship_tag": "ABX9TyPXQ/SpbXZAS5mheih3i8iR",
      "include_colab_link": true
    },
    "kernelspec": {
      "name": "python3",
      "display_name": "Python 3"
    },
    "language_info": {
      "name": "python"
    },
    "widgets": {
      "application/vnd.jupyter.widget-state+json": {
        "0d0482e1a6f14048af27da64e685388d": {
          "model_module": "@jupyter-widgets/controls",
          "model_name": "HBoxModel",
          "state": {
            "_view_name": "HBoxView",
            "_dom_classes": [],
            "_model_name": "HBoxModel",
            "_view_module": "@jupyter-widgets/controls",
            "_model_module_version": "1.5.0",
            "_view_count": null,
            "_view_module_version": "1.5.0",
            "box_style": "",
            "layout": "IPY_MODEL_b1aa171f05f9407abe0eb3a64c57bfd8",
            "_model_module": "@jupyter-widgets/controls",
            "children": [
              "IPY_MODEL_7d85d50bb6e140fe86b2462b7f1d600d",
              "IPY_MODEL_688ba7470a2249a4b4685c0adc766d97"
            ]
          }
        },
        "b1aa171f05f9407abe0eb3a64c57bfd8": {
          "model_module": "@jupyter-widgets/base",
          "model_name": "LayoutModel",
          "state": {
            "_view_name": "LayoutView",
            "grid_template_rows": null,
            "right": null,
            "justify_content": null,
            "_view_module": "@jupyter-widgets/base",
            "overflow": null,
            "_model_module_version": "1.2.0",
            "_view_count": null,
            "flex_flow": null,
            "width": null,
            "min_width": null,
            "border": null,
            "align_items": null,
            "bottom": null,
            "_model_module": "@jupyter-widgets/base",
            "top": null,
            "grid_column": null,
            "overflow_y": null,
            "overflow_x": null,
            "grid_auto_flow": null,
            "grid_area": null,
            "grid_template_columns": null,
            "flex": null,
            "_model_name": "LayoutModel",
            "justify_items": null,
            "grid_row": null,
            "max_height": null,
            "align_content": null,
            "visibility": null,
            "align_self": null,
            "height": null,
            "min_height": null,
            "padding": null,
            "grid_auto_rows": null,
            "grid_gap": null,
            "max_width": null,
            "order": null,
            "_view_module_version": "1.2.0",
            "grid_template_areas": null,
            "object_position": null,
            "object_fit": null,
            "grid_auto_columns": null,
            "margin": null,
            "display": null,
            "left": null
          }
        },
        "7d85d50bb6e140fe86b2462b7f1d600d": {
          "model_module": "@jupyter-widgets/controls",
          "model_name": "FloatProgressModel",
          "state": {
            "_view_name": "ProgressView",
            "style": "IPY_MODEL_1d1e7e7ed6334c63816d88d271ad9d16",
            "_dom_classes": [],
            "description": "100%",
            "_model_name": "FloatProgressModel",
            "bar_style": "success",
            "max": 300,
            "_view_module": "@jupyter-widgets/controls",
            "_model_module_version": "1.5.0",
            "value": 300,
            "_view_count": null,
            "_view_module_version": "1.5.0",
            "orientation": "horizontal",
            "min": 0,
            "description_tooltip": null,
            "_model_module": "@jupyter-widgets/controls",
            "layout": "IPY_MODEL_7f2ed9710abc4b68a033b96e0108ca51"
          }
        },
        "688ba7470a2249a4b4685c0adc766d97": {
          "model_module": "@jupyter-widgets/controls",
          "model_name": "HTMLModel",
          "state": {
            "_view_name": "HTMLView",
            "style": "IPY_MODEL_a102aec3eaed46fda49fb2d3e3c48e8b",
            "_dom_classes": [],
            "description": "",
            "_model_name": "HTMLModel",
            "placeholder": "​",
            "_view_module": "@jupyter-widgets/controls",
            "_model_module_version": "1.5.0",
            "value": " 300/300 [00:01&lt;00:00, 177.62it/s]",
            "_view_count": null,
            "_view_module_version": "1.5.0",
            "description_tooltip": null,
            "_model_module": "@jupyter-widgets/controls",
            "layout": "IPY_MODEL_d95dd062def84356bbbf87f2b562b446"
          }
        },
        "1d1e7e7ed6334c63816d88d271ad9d16": {
          "model_module": "@jupyter-widgets/controls",
          "model_name": "ProgressStyleModel",
          "state": {
            "_view_name": "StyleView",
            "_model_name": "ProgressStyleModel",
            "description_width": "initial",
            "_view_module": "@jupyter-widgets/base",
            "_model_module_version": "1.5.0",
            "_view_count": null,
            "_view_module_version": "1.2.0",
            "bar_color": null,
            "_model_module": "@jupyter-widgets/controls"
          }
        },
        "7f2ed9710abc4b68a033b96e0108ca51": {
          "model_module": "@jupyter-widgets/base",
          "model_name": "LayoutModel",
          "state": {
            "_view_name": "LayoutView",
            "grid_template_rows": null,
            "right": null,
            "justify_content": null,
            "_view_module": "@jupyter-widgets/base",
            "overflow": null,
            "_model_module_version": "1.2.0",
            "_view_count": null,
            "flex_flow": null,
            "width": null,
            "min_width": null,
            "border": null,
            "align_items": null,
            "bottom": null,
            "_model_module": "@jupyter-widgets/base",
            "top": null,
            "grid_column": null,
            "overflow_y": null,
            "overflow_x": null,
            "grid_auto_flow": null,
            "grid_area": null,
            "grid_template_columns": null,
            "flex": null,
            "_model_name": "LayoutModel",
            "justify_items": null,
            "grid_row": null,
            "max_height": null,
            "align_content": null,
            "visibility": null,
            "align_self": null,
            "height": null,
            "min_height": null,
            "padding": null,
            "grid_auto_rows": null,
            "grid_gap": null,
            "max_width": null,
            "order": null,
            "_view_module_version": "1.2.0",
            "grid_template_areas": null,
            "object_position": null,
            "object_fit": null,
            "grid_auto_columns": null,
            "margin": null,
            "display": null,
            "left": null
          }
        },
        "a102aec3eaed46fda49fb2d3e3c48e8b": {
          "model_module": "@jupyter-widgets/controls",
          "model_name": "DescriptionStyleModel",
          "state": {
            "_view_name": "StyleView",
            "_model_name": "DescriptionStyleModel",
            "description_width": "",
            "_view_module": "@jupyter-widgets/base",
            "_model_module_version": "1.5.0",
            "_view_count": null,
            "_view_module_version": "1.2.0",
            "_model_module": "@jupyter-widgets/controls"
          }
        },
        "d95dd062def84356bbbf87f2b562b446": {
          "model_module": "@jupyter-widgets/base",
          "model_name": "LayoutModel",
          "state": {
            "_view_name": "LayoutView",
            "grid_template_rows": null,
            "right": null,
            "justify_content": null,
            "_view_module": "@jupyter-widgets/base",
            "overflow": null,
            "_model_module_version": "1.2.0",
            "_view_count": null,
            "flex_flow": null,
            "width": null,
            "min_width": null,
            "border": null,
            "align_items": null,
            "bottom": null,
            "_model_module": "@jupyter-widgets/base",
            "top": null,
            "grid_column": null,
            "overflow_y": null,
            "overflow_x": null,
            "grid_auto_flow": null,
            "grid_area": null,
            "grid_template_columns": null,
            "flex": null,
            "_model_name": "LayoutModel",
            "justify_items": null,
            "grid_row": null,
            "max_height": null,
            "align_content": null,
            "visibility": null,
            "align_self": null,
            "height": null,
            "min_height": null,
            "padding": null,
            "grid_auto_rows": null,
            "grid_gap": null,
            "max_width": null,
            "order": null,
            "_view_module_version": "1.2.0",
            "grid_template_areas": null,
            "object_position": null,
            "object_fit": null,
            "grid_auto_columns": null,
            "margin": null,
            "display": null,
            "left": null
          }
        }
      }
    }
  },
  "cells": [
    {
      "cell_type": "markdown",
      "metadata": {
        "id": "view-in-github",
        "colab_type": "text"
      },
      "source": [
        "<a href=\"https://colab.research.google.com/github/magiwanders/CMLS_HW1/blob/master/src/snippets/Parallelization.ipynb\" target=\"_parent\"><img src=\"https://colab.research.google.com/assets/colab-badge.svg\" alt=\"Open In Colab\"/></a>"
      ]
    },
    {
      "cell_type": "code",
      "metadata": {
        "colab": {
          "base_uri": "https://localhost:8080/",
          "height": 511,
          "referenced_widgets": [
            "0d0482e1a6f14048af27da64e685388d",
            "b1aa171f05f9407abe0eb3a64c57bfd8",
            "7d85d50bb6e140fe86b2462b7f1d600d",
            "688ba7470a2249a4b4685c0adc766d97",
            "1d1e7e7ed6334c63816d88d271ad9d16",
            "7f2ed9710abc4b68a033b96e0108ca51",
            "a102aec3eaed46fda49fb2d3e3c48e8b",
            "d95dd062def84356bbbf87f2b562b446"
          ]
        },
        "id": "AZzAQRB1GVJO",
        "outputId": "92a7e543-6768-458f-e612-a8ba4b047df8"
      },
      "source": [
        "!pip install p_tqdm\n",
        "import numpy as np\n",
        "import time\n",
        "from tqdm import tqdm\n",
        "from p_tqdm import p_map\n",
        "\n",
        "# This contains all the inputs to the function that can be parallelized. \n",
        "# This example parallelizes 300 instances of an expensive function. \n",
        "# As the expensive data takes 0.01 seconds, the WCS is 3 seconds + overhead.\n",
        "inputs = np.random.rand(300)\n",
        "out_trad = []\n",
        "out_parall = []\n",
        "\n",
        "def expensive_parallelizable_task(x):\n",
        "    time.sleep(0.01) # Very expensive! Takes 0.01 seconds\n",
        "    return x*x\n",
        "\n",
        "# /////////////////////////////////// TRADITIONAL COMPUTING\n",
        "t1 = time.time()\n",
        "\n",
        "for i in tqdm(inputs):\n",
        "    out_trad.append(expensive_parallelizable_task(i))\n",
        "\n",
        "t2 = time.time()\n",
        "print('Traditional computing time: ' + str(t2-t1))\n",
        "\n",
        "# /////////////////////////////////// PARALLEL COMPUTING\n",
        "t1 = time.time()\n",
        "\n",
        "if __name__ == '__main__':\n",
        "    out_parall = p_map(expensive_parallelizable_task, inputs)\n",
        "\n",
        "t2 = time.time()\n",
        "print('Parallel computing time: ' + str(t2-t1))\n",
        "\n",
        "if out_trad == out_parall:\n",
        "    print('[SUCCESS] The two computations gave the same result')\n",
        "else:\n",
        "    print('[FAIL] Methods are not equivalent')"
      ],
      "execution_count": 1,
      "outputs": [
        {
          "output_type": "stream",
          "text": [
            "Collecting p_tqdm\n",
            "  Downloading https://files.pythonhosted.org/packages/b9/c4/ce6abe2fa3868b1ea9216a81522a9ece36f47bdbb966f8f31f76e2967178/p_tqdm-1.3.3.tar.gz\n",
            "Requirement already satisfied: tqdm in /usr/local/lib/python3.7/dist-packages (from p_tqdm) (4.41.1)\n",
            "Collecting pathos\n",
            "\u001b[?25l  Downloading https://files.pythonhosted.org/packages/10/9e/0100b1d500851fc8e093da5463ca38e013c86ea0855e7c510ca0d3e1f7c1/pathos-0.2.7-py2.py3-none-any.whl (81kB)\n",
            "\u001b[K     |████████████████████████████████| 81kB 4.2MB/s \n",
            "\u001b[?25hRequirement already satisfied: six in /usr/local/lib/python3.7/dist-packages (from p_tqdm) (1.15.0)\n",
            "Collecting pox>=0.2.9\n",
            "  Downloading https://files.pythonhosted.org/packages/6b/06/600e1b1103336ce94cf01e63a6c7b134f0edccf59bbf99189c975e2f257e/pox-0.2.9-py2.py3-none-any.whl\n",
            "Collecting ppft>=1.6.6.3\n",
            "\u001b[?25l  Downloading https://files.pythonhosted.org/packages/51/7b/e63dcf1f9b5ecd37691ee8a7029f71ddb7cafab780a60e312d913afc0f29/ppft-1.6.6.3-py3-none-any.whl (65kB)\n",
            "\u001b[K     |████████████████████████████████| 71kB 5.2MB/s \n",
            "\u001b[?25hRequirement already satisfied: dill>=0.3.3 in /usr/local/lib/python3.7/dist-packages (from pathos->p_tqdm) (0.3.3)\n",
            "Requirement already satisfied: multiprocess>=0.70.11 in /usr/local/lib/python3.7/dist-packages (from pathos->p_tqdm) (0.70.11.1)\n",
            "Building wheels for collected packages: p-tqdm\n",
            "  Building wheel for p-tqdm (setup.py) ... \u001b[?25l\u001b[?25hdone\n",
            "  Created wheel for p-tqdm: filename=p_tqdm-1.3.3-cp37-none-any.whl size=3987 sha256=fcdb4943321fd8b9c6b553f39e88b1664065c27256729b3b18f5facfe4feb918\n",
            "  Stored in directory: /root/.cache/pip/wheels/72/26/f7/18d7dcd10ebd3f81fab3f52e07c61b5771cd21c29f69c7a0e9\n",
            "Successfully built p-tqdm\n",
            "Installing collected packages: pox, ppft, pathos, p-tqdm\n",
            "Successfully installed p-tqdm-1.3.3 pathos-0.2.7 pox-0.2.9 ppft-1.6.6.3\n"
          ],
          "name": "stdout"
        },
        {
          "output_type": "stream",
          "text": [
            "100%|██████████| 300/300 [00:03<00:00, 96.86it/s]"
          ],
          "name": "stderr"
        },
        {
          "output_type": "stream",
          "text": [
            "Traditional computing time: 3.1025030612945557\n"
          ],
          "name": "stdout"
        },
        {
          "output_type": "stream",
          "text": [
            "\n"
          ],
          "name": "stderr"
        },
        {
          "output_type": "display_data",
          "data": {
            "application/vnd.jupyter.widget-view+json": {
              "model_id": "0d0482e1a6f14048af27da64e685388d",
              "version_minor": 0,
              "version_major": 2
            },
            "text/plain": [
              "HBox(children=(FloatProgress(value=0.0, max=300.0), HTML(value='')))"
            ]
          },
          "metadata": {
            "tags": []
          }
        },
        {
          "output_type": "stream",
          "text": [
            "\n",
            "Parallel computing time: 1.766183853149414\n",
            "[SUCCESS] The two computations gave the same result\n"
          ],
          "name": "stdout"
        }
      ]
    }
  ]
}