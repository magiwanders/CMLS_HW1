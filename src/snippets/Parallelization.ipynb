{
  "nbformat": 4,
  "nbformat_minor": 0,
  "metadata": {
    "colab": {
      "name": "Parallelization.ipynb",
      "provenance": [],
      "authorship_tag": "ABX9TyOVlgT+qTMSshfIKRmLrbUp",
      "include_colab_link": true
    },
    "kernelspec": {
      "name": "python3",
      "display_name": "Python 3"
    },
    "language_info": {
      "name": "python"
    },
    "widgets": {
      "application/vnd.jupyter.widget-state+json": {
        "3f994dbbb46b439eb09a1759d95cde44": {
          "model_module": "@jupyter-widgets/controls",
          "model_name": "HBoxModel",
          "state": {
            "_view_name": "HBoxView",
            "_dom_classes": [],
            "_model_name": "HBoxModel",
            "_view_module": "@jupyter-widgets/controls",
            "_model_module_version": "1.5.0",
            "_view_count": null,
            "_view_module_version": "1.5.0",
            "box_style": "",
            "layout": "IPY_MODEL_24e8893a1ad74c6fb3976101868c1141",
            "_model_module": "@jupyter-widgets/controls",
            "children": [
              "IPY_MODEL_f8d2b9c33f514a9599a288feefa5f4cc",
              "IPY_MODEL_651c094478a84e478d54be971e189804"
            ]
          }
        },
        "24e8893a1ad74c6fb3976101868c1141": {
          "model_module": "@jupyter-widgets/base",
          "model_name": "LayoutModel",
          "state": {
            "_view_name": "LayoutView",
            "grid_template_rows": null,
            "right": null,
            "justify_content": null,
            "_view_module": "@jupyter-widgets/base",
            "overflow": null,
            "_model_module_version": "1.2.0",
            "_view_count": null,
            "flex_flow": null,
            "width": null,
            "min_width": null,
            "border": null,
            "align_items": null,
            "bottom": null,
            "_model_module": "@jupyter-widgets/base",
            "top": null,
            "grid_column": null,
            "overflow_y": null,
            "overflow_x": null,
            "grid_auto_flow": null,
            "grid_area": null,
            "grid_template_columns": null,
            "flex": null,
            "_model_name": "LayoutModel",
            "justify_items": null,
            "grid_row": null,
            "max_height": null,
            "align_content": null,
            "visibility": null,
            "align_self": null,
            "height": null,
            "min_height": null,
            "padding": null,
            "grid_auto_rows": null,
            "grid_gap": null,
            "max_width": null,
            "order": null,
            "_view_module_version": "1.2.0",
            "grid_template_areas": null,
            "object_position": null,
            "object_fit": null,
            "grid_auto_columns": null,
            "margin": null,
            "display": null,
            "left": null
          }
        },
        "f8d2b9c33f514a9599a288feefa5f4cc": {
          "model_module": "@jupyter-widgets/controls",
          "model_name": "FloatProgressModel",
          "state": {
            "_view_name": "ProgressView",
            "style": "IPY_MODEL_e95cd4b0c507414fabdba51776170c17",
            "_dom_classes": [],
            "description": "100%",
            "_model_name": "FloatProgressModel",
            "bar_style": "success",
            "max": 300,
            "_view_module": "@jupyter-widgets/controls",
            "_model_module_version": "1.5.0",
            "value": 300,
            "_view_count": null,
            "_view_module_version": "1.5.0",
            "orientation": "horizontal",
            "min": 0,
            "description_tooltip": null,
            "_model_module": "@jupyter-widgets/controls",
            "layout": "IPY_MODEL_0031282cb41b4889a55448d23053a31c"
          }
        },
        "651c094478a84e478d54be971e189804": {
          "model_module": "@jupyter-widgets/controls",
          "model_name": "HTMLModel",
          "state": {
            "_view_name": "HTMLView",
            "style": "IPY_MODEL_18f6cd003bba4041a52085c51c97ee67",
            "_dom_classes": [],
            "description": "",
            "_model_name": "HTMLModel",
            "placeholder": "​",
            "_view_module": "@jupyter-widgets/controls",
            "_model_module_version": "1.5.0",
            "value": " 300/300 [00:01&lt;00:00, 172.77it/s]",
            "_view_count": null,
            "_view_module_version": "1.5.0",
            "description_tooltip": null,
            "_model_module": "@jupyter-widgets/controls",
            "layout": "IPY_MODEL_f7460e5e72554b128b8712675e6d75b5"
          }
        },
        "e95cd4b0c507414fabdba51776170c17": {
          "model_module": "@jupyter-widgets/controls",
          "model_name": "ProgressStyleModel",
          "state": {
            "_view_name": "StyleView",
            "_model_name": "ProgressStyleModel",
            "description_width": "initial",
            "_view_module": "@jupyter-widgets/base",
            "_model_module_version": "1.5.0",
            "_view_count": null,
            "_view_module_version": "1.2.0",
            "bar_color": null,
            "_model_module": "@jupyter-widgets/controls"
          }
        },
        "0031282cb41b4889a55448d23053a31c": {
          "model_module": "@jupyter-widgets/base",
          "model_name": "LayoutModel",
          "state": {
            "_view_name": "LayoutView",
            "grid_template_rows": null,
            "right": null,
            "justify_content": null,
            "_view_module": "@jupyter-widgets/base",
            "overflow": null,
            "_model_module_version": "1.2.0",
            "_view_count": null,
            "flex_flow": null,
            "width": null,
            "min_width": null,
            "border": null,
            "align_items": null,
            "bottom": null,
            "_model_module": "@jupyter-widgets/base",
            "top": null,
            "grid_column": null,
            "overflow_y": null,
            "overflow_x": null,
            "grid_auto_flow": null,
            "grid_area": null,
            "grid_template_columns": null,
            "flex": null,
            "_model_name": "LayoutModel",
            "justify_items": null,
            "grid_row": null,
            "max_height": null,
            "align_content": null,
            "visibility": null,
            "align_self": null,
            "height": null,
            "min_height": null,
            "padding": null,
            "grid_auto_rows": null,
            "grid_gap": null,
            "max_width": null,
            "order": null,
            "_view_module_version": "1.2.0",
            "grid_template_areas": null,
            "object_position": null,
            "object_fit": null,
            "grid_auto_columns": null,
            "margin": null,
            "display": null,
            "left": null
          }
        },
        "18f6cd003bba4041a52085c51c97ee67": {
          "model_module": "@jupyter-widgets/controls",
          "model_name": "DescriptionStyleModel",
          "state": {
            "_view_name": "StyleView",
            "_model_name": "DescriptionStyleModel",
            "description_width": "",
            "_view_module": "@jupyter-widgets/base",
            "_model_module_version": "1.5.0",
            "_view_count": null,
            "_view_module_version": "1.2.0",
            "_model_module": "@jupyter-widgets/controls"
          }
        },
        "f7460e5e72554b128b8712675e6d75b5": {
          "model_module": "@jupyter-widgets/base",
          "model_name": "LayoutModel",
          "state": {
            "_view_name": "LayoutView",
            "grid_template_rows": null,
            "right": null,
            "justify_content": null,
            "_view_module": "@jupyter-widgets/base",
            "overflow": null,
            "_model_module_version": "1.2.0",
            "_view_count": null,
            "flex_flow": null,
            "width": null,
            "min_width": null,
            "border": null,
            "align_items": null,
            "bottom": null,
            "_model_module": "@jupyter-widgets/base",
            "top": null,
            "grid_column": null,
            "overflow_y": null,
            "overflow_x": null,
            "grid_auto_flow": null,
            "grid_area": null,
            "grid_template_columns": null,
            "flex": null,
            "_model_name": "LayoutModel",
            "justify_items": null,
            "grid_row": null,
            "max_height": null,
            "align_content": null,
            "visibility": null,
            "align_self": null,
            "height": null,
            "min_height": null,
            "padding": null,
            "grid_auto_rows": null,
            "grid_gap": null,
            "max_width": null,
            "order": null,
            "_view_module_version": "1.2.0",
            "grid_template_areas": null,
            "object_position": null,
            "object_fit": null,
            "grid_auto_columns": null,
            "margin": null,
            "display": null,
            "left": null
          }
        }
      }
    }
  },
  "cells": [
    {
      "cell_type": "markdown",
      "metadata": {
        "id": "view-in-github",
        "colab_type": "text"
      },
      "source": [
        "<a href=\"https://colab.research.google.com/github/magiwanders/CMLS_HW1/blob/master/src/snippets/Parallelization.ipynb\" target=\"_parent\"><img src=\"https://colab.research.google.com/assets/colab-badge.svg\" alt=\"Open In Colab\"/></a>"
      ]
    },
    {
      "cell_type": "code",
      "metadata": {
        "colab": {
          "base_uri": "https://localhost:8080/",
          "height": 287,
          "referenced_widgets": [
            "3f994dbbb46b439eb09a1759d95cde44",
            "24e8893a1ad74c6fb3976101868c1141",
            "f8d2b9c33f514a9599a288feefa5f4cc",
            "651c094478a84e478d54be971e189804",
            "e95cd4b0c507414fabdba51776170c17",
            "0031282cb41b4889a55448d23053a31c",
            "18f6cd003bba4041a52085c51c97ee67",
            "f7460e5e72554b128b8712675e6d75b5"
          ]
        },
        "id": "AZzAQRB1GVJO",
        "outputId": "596709be-ad05-4a6b-cc02-6fdcbd0a8784"
      },
      "source": [
        "!pip install p_tqdm\n",
        "import numpy as np\n",
        "import time\n",
        "from tqdm import tqdm\n",
        "from p_tqdm import p_map\n",
        "import multiprocessing\n",
        "\n",
        "# This contains all the inputs to the function that can be parallelized. \n",
        "# This example parallelizes 300 instances of an expensive function. \n",
        "# As the expensive data takes 0.01 seconds, the WCS is 3 seconds + overhead.\n",
        "inputs1 = np.random.rand(300)\n",
        "inputs2 = np.random.rand(300)\n",
        "inputs = np.array((inputs1, inputs2)).T\n",
        "out_trad = []\n",
        "out_parall = []\n",
        "\n",
        "def expensive_parallelizable_task(input):\n",
        "    x = input[0]\n",
        "    y = input[1]\n",
        "    time.sleep(0.01) # Very expensive! Takes 0.01 seconds\n",
        "    return x*y\n",
        "\n",
        "# /////////////////////////////////// TRADITIONAL COMPUTING\n",
        "t1 = time.time()\n",
        "\n",
        "for i in tqdm(inputs):\n",
        "    out_trad.append(expensive_parallelizable_task(i))\n",
        "\n",
        "t2 = time.time()\n",
        "print('Traditional computing time: ' + str(t2-t1))\n",
        "\n",
        "# /////////////////////////////////// PARALLEL COMPUTING\n",
        "\n",
        "print(\"Number of cores:\" + str(multiprocessing.cpu_count()))\n",
        "\n",
        "t1 = time.time()\n",
        "\n",
        "if __name__ == '__main__':\n",
        "    out_parall = p_map(expensive_parallelizable_task, inputs)\n",
        "\n",
        "t2 = time.time()\n",
        "print('Parallel computing time: ' + str(t2-t1))\n",
        "\n",
        "if out_trad == out_parall:\n",
        "    print('[SUCCESS] The two computations gave the same result')\n",
        "else:\n",
        "    print('[FAIL] Methods are not equivalent')"
      ],
      "execution_count": 4,
      "outputs": [
        {
          "output_type": "stream",
          "text": [
            "Requirement already satisfied: p_tqdm in /usr/local/lib/python3.7/dist-packages (1.3.3)\n",
            "Requirement already satisfied: six in /usr/local/lib/python3.7/dist-packages (from p_tqdm) (1.15.0)\n",
            "Requirement already satisfied: pathos in /usr/local/lib/python3.7/dist-packages (from p_tqdm) (0.2.7)\n",
            "Requirement already satisfied: tqdm in /usr/local/lib/python3.7/dist-packages (from p_tqdm) (4.41.1)\n",
            "Requirement already satisfied: dill>=0.3.3 in /usr/local/lib/python3.7/dist-packages (from pathos->p_tqdm) (0.3.3)\n",
            "Requirement already satisfied: multiprocess>=0.70.11 in /usr/local/lib/python3.7/dist-packages (from pathos->p_tqdm) (0.70.11.1)\n",
            "Requirement already satisfied: pox>=0.2.9 in /usr/local/lib/python3.7/dist-packages (from pathos->p_tqdm) (0.2.9)\n",
            "Requirement already satisfied: ppft>=1.6.6.3 in /usr/local/lib/python3.7/dist-packages (from pathos->p_tqdm) (1.6.6.3)\n"
          ],
          "name": "stdout"
        },
        {
          "output_type": "stream",
          "text": [
            "100%|██████████| 300/300 [00:03<00:00, 96.58it/s]"
          ],
          "name": "stderr"
        },
        {
          "output_type": "stream",
          "text": [
            "Traditional computing time: 3.1158149242401123\n",
            "Number of cores:2\n"
          ],
          "name": "stdout"
        },
        {
          "output_type": "stream",
          "text": [
            "\n"
          ],
          "name": "stderr"
        },
        {
          "output_type": "display_data",
          "data": {
            "application/vnd.jupyter.widget-view+json": {
              "model_id": "3f994dbbb46b439eb09a1759d95cde44",
              "version_minor": 0,
              "version_major": 2
            },
            "text/plain": [
              "HBox(children=(FloatProgress(value=0.0, max=300.0), HTML(value='')))"
            ]
          },
          "metadata": {
            "tags": []
          }
        },
        {
          "output_type": "stream",
          "text": [
            "\n",
            "Parallel computing time: 1.8443317413330078\n",
            "[SUCCESS] The two computations gave the same result\n"
          ],
          "name": "stdout"
        }
      ]
    }
  ]
}