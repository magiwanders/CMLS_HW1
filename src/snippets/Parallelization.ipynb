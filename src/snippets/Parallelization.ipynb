{
  "nbformat": 4,
  "nbformat_minor": 0,
  "metadata": {
    "colab": {
      "name": "Parallelization.ipynb",
      "provenance": [],
      "authorship_tag": "ABX9TyOrhp3f9NpRpVjKhXonY+tW",
      "include_colab_link": true
    },
    "kernelspec": {
      "name": "python3",
      "display_name": "Python 3"
    },
    "language_info": {
      "name": "python"
    },
    "widgets": {
      "application/vnd.jupyter.widget-state+json": {
        "17122b3c7a8445a4b3ab4132fd4c45d5": {
          "model_module": "@jupyter-widgets/controls",
          "model_name": "HBoxModel",
          "state": {
            "_view_name": "HBoxView",
            "_dom_classes": [],
            "_model_name": "HBoxModel",
            "_view_module": "@jupyter-widgets/controls",
            "_model_module_version": "1.5.0",
            "_view_count": null,
            "_view_module_version": "1.5.0",
            "box_style": "",
            "layout": "IPY_MODEL_34511031437e4989a7d805b9555c4534",
            "_model_module": "@jupyter-widgets/controls",
            "children": [
              "IPY_MODEL_7aab77e5b7e646ae90b164cb799fd1bd",
              "IPY_MODEL_50a8cddf3a7d4c108bdfe4f35434e7b1"
            ]
          }
        },
        "34511031437e4989a7d805b9555c4534": {
          "model_module": "@jupyter-widgets/base",
          "model_name": "LayoutModel",
          "state": {
            "_view_name": "LayoutView",
            "grid_template_rows": null,
            "right": null,
            "justify_content": null,
            "_view_module": "@jupyter-widgets/base",
            "overflow": null,
            "_model_module_version": "1.2.0",
            "_view_count": null,
            "flex_flow": null,
            "width": null,
            "min_width": null,
            "border": null,
            "align_items": null,
            "bottom": null,
            "_model_module": "@jupyter-widgets/base",
            "top": null,
            "grid_column": null,
            "overflow_y": null,
            "overflow_x": null,
            "grid_auto_flow": null,
            "grid_area": null,
            "grid_template_columns": null,
            "flex": null,
            "_model_name": "LayoutModel",
            "justify_items": null,
            "grid_row": null,
            "max_height": null,
            "align_content": null,
            "visibility": null,
            "align_self": null,
            "height": null,
            "min_height": null,
            "padding": null,
            "grid_auto_rows": null,
            "grid_gap": null,
            "max_width": null,
            "order": null,
            "_view_module_version": "1.2.0",
            "grid_template_areas": null,
            "object_position": null,
            "object_fit": null,
            "grid_auto_columns": null,
            "margin": null,
            "display": null,
            "left": null
          }
        },
        "7aab77e5b7e646ae90b164cb799fd1bd": {
          "model_module": "@jupyter-widgets/controls",
          "model_name": "FloatProgressModel",
          "state": {
            "_view_name": "ProgressView",
            "style": "IPY_MODEL_8a25a45500764777a7cddee870d38a4e",
            "_dom_classes": [],
            "description": "100%",
            "_model_name": "FloatProgressModel",
            "bar_style": "success",
            "max": 300,
            "_view_module": "@jupyter-widgets/controls",
            "_model_module_version": "1.5.0",
            "value": 300,
            "_view_count": null,
            "_view_module_version": "1.5.0",
            "orientation": "horizontal",
            "min": 0,
            "description_tooltip": null,
            "_model_module": "@jupyter-widgets/controls",
            "layout": "IPY_MODEL_1787df6e701343b2abb4d9f5205ca8e9"
          }
        },
        "50a8cddf3a7d4c108bdfe4f35434e7b1": {
          "model_module": "@jupyter-widgets/controls",
          "model_name": "HTMLModel",
          "state": {
            "_view_name": "HTMLView",
            "style": "IPY_MODEL_2c390c7bcf514d98a2ceadd33f9e032d",
            "_dom_classes": [],
            "description": "",
            "_model_name": "HTMLModel",
            "placeholder": "​",
            "_view_module": "@jupyter-widgets/controls",
            "_model_module_version": "1.5.0",
            "value": " 300/300 [00:01&lt;00:00, 171.53it/s]",
            "_view_count": null,
            "_view_module_version": "1.5.0",
            "description_tooltip": null,
            "_model_module": "@jupyter-widgets/controls",
            "layout": "IPY_MODEL_5e57ee97a8e44811b3d034d173560784"
          }
        },
        "8a25a45500764777a7cddee870d38a4e": {
          "model_module": "@jupyter-widgets/controls",
          "model_name": "ProgressStyleModel",
          "state": {
            "_view_name": "StyleView",
            "_model_name": "ProgressStyleModel",
            "description_width": "initial",
            "_view_module": "@jupyter-widgets/base",
            "_model_module_version": "1.5.0",
            "_view_count": null,
            "_view_module_version": "1.2.0",
            "bar_color": null,
            "_model_module": "@jupyter-widgets/controls"
          }
        },
        "1787df6e701343b2abb4d9f5205ca8e9": {
          "model_module": "@jupyter-widgets/base",
          "model_name": "LayoutModel",
          "state": {
            "_view_name": "LayoutView",
            "grid_template_rows": null,
            "right": null,
            "justify_content": null,
            "_view_module": "@jupyter-widgets/base",
            "overflow": null,
            "_model_module_version": "1.2.0",
            "_view_count": null,
            "flex_flow": null,
            "width": null,
            "min_width": null,
            "border": null,
            "align_items": null,
            "bottom": null,
            "_model_module": "@jupyter-widgets/base",
            "top": null,
            "grid_column": null,
            "overflow_y": null,
            "overflow_x": null,
            "grid_auto_flow": null,
            "grid_area": null,
            "grid_template_columns": null,
            "flex": null,
            "_model_name": "LayoutModel",
            "justify_items": null,
            "grid_row": null,
            "max_height": null,
            "align_content": null,
            "visibility": null,
            "align_self": null,
            "height": null,
            "min_height": null,
            "padding": null,
            "grid_auto_rows": null,
            "grid_gap": null,
            "max_width": null,
            "order": null,
            "_view_module_version": "1.2.0",
            "grid_template_areas": null,
            "object_position": null,
            "object_fit": null,
            "grid_auto_columns": null,
            "margin": null,
            "display": null,
            "left": null
          }
        },
        "2c390c7bcf514d98a2ceadd33f9e032d": {
          "model_module": "@jupyter-widgets/controls",
          "model_name": "DescriptionStyleModel",
          "state": {
            "_view_name": "StyleView",
            "_model_name": "DescriptionStyleModel",
            "description_width": "",
            "_view_module": "@jupyter-widgets/base",
            "_model_module_version": "1.5.0",
            "_view_count": null,
            "_view_module_version": "1.2.0",
            "_model_module": "@jupyter-widgets/controls"
          }
        },
        "5e57ee97a8e44811b3d034d173560784": {
          "model_module": "@jupyter-widgets/base",
          "model_name": "LayoutModel",
          "state": {
            "_view_name": "LayoutView",
            "grid_template_rows": null,
            "right": null,
            "justify_content": null,
            "_view_module": "@jupyter-widgets/base",
            "overflow": null,
            "_model_module_version": "1.2.0",
            "_view_count": null,
            "flex_flow": null,
            "width": null,
            "min_width": null,
            "border": null,
            "align_items": null,
            "bottom": null,
            "_model_module": "@jupyter-widgets/base",
            "top": null,
            "grid_column": null,
            "overflow_y": null,
            "overflow_x": null,
            "grid_auto_flow": null,
            "grid_area": null,
            "grid_template_columns": null,
            "flex": null,
            "_model_name": "LayoutModel",
            "justify_items": null,
            "grid_row": null,
            "max_height": null,
            "align_content": null,
            "visibility": null,
            "align_self": null,
            "height": null,
            "min_height": null,
            "padding": null,
            "grid_auto_rows": null,
            "grid_gap": null,
            "max_width": null,
            "order": null,
            "_view_module_version": "1.2.0",
            "grid_template_areas": null,
            "object_position": null,
            "object_fit": null,
            "grid_auto_columns": null,
            "margin": null,
            "display": null,
            "left": null
          }
        }
      }
    }
  },
  "cells": [
    {
      "cell_type": "markdown",
      "metadata": {
        "id": "view-in-github",
        "colab_type": "text"
      },
      "source": [
        "<a href=\"https://colab.research.google.com/github/magiwanders/CMLS_HW1/blob/master/src/snippets/Parallelization.ipynb\" target=\"_parent\"><img src=\"https://colab.research.google.com/assets/colab-badge.svg\" alt=\"Open In Colab\"/></a>"
      ]
    },
    {
      "cell_type": "code",
      "metadata": {
        "colab": {
          "base_uri": "https://localhost:8080/",
          "height": 290,
          "referenced_widgets": [
            "17122b3c7a8445a4b3ab4132fd4c45d5",
            "34511031437e4989a7d805b9555c4534",
            "7aab77e5b7e646ae90b164cb799fd1bd",
            "50a8cddf3a7d4c108bdfe4f35434e7b1",
            "8a25a45500764777a7cddee870d38a4e",
            "1787df6e701343b2abb4d9f5205ca8e9",
            "2c390c7bcf514d98a2ceadd33f9e032d",
            "5e57ee97a8e44811b3d034d173560784"
          ]
        },
        "id": "AZzAQRB1GVJO",
        "outputId": "853807df-b445-4996-c31f-a616e5c2aa1c"
      },
      "source": [
        "!pip install p_tqdm\n",
        "import numpy as np\n",
        "import time\n",
        "from tqdm import tqdm\n",
        "from p_tqdm import p_map\n",
        "\n",
        "# This contains all the inputs to the function that can be parallelized. \n",
        "# This example parallelizes 300 instances of an expensive function. \n",
        "# As the expensive data takes 0.01 seconds, the WCS is 3 seconds + overhead.\n",
        "inputs1 = np.random.rand(300)\n",
        "inputs2 = np.random.rand(300)\n",
        "inputs = np.array((inputs1, inputs2)).T\n",
        "out_trad = []\n",
        "out_parall = []\n",
        "\n",
        "def expensive_parallelizable_task(input):\n",
        "    x = input[0]\n",
        "    y = input[1]\n",
        "    time.sleep(0.01) # Very expensive! Takes 0.01 seconds\n",
        "    return x*y\n",
        "\n",
        "# /////////////////////////////////// TRADITIONAL COMPUTING\n",
        "t1 = time.time()\n",
        "\n",
        "for i in tqdm(inputs):\n",
        "    out_trad.append(expensive_parallelizable_task(i))\n",
        "\n",
        "t2 = time.time()\n",
        "print('Traditional computing time: ' + str(t2-t1))\n",
        "\n",
        "# /////////////////////////////////// PARALLEL COMPUTING\n",
        "t1 = time.time()\n",
        "\n",
        "if __name__ == '__main__':\n",
        "    out_parall = p_map(expensive_parallelizable_task, inputs)\n",
        "\n",
        "t2 = time.time()\n",
        "print('Parallel computing time: ' + str(t2-t1))\n",
        "\n",
        "if out_trad == out_parall:\n",
        "    print('[SUCCESS] The two computations gave the same result')\n",
        "else:\n",
        "    print('[FAIL] Methods are not equivalent')"
      ],
      "execution_count": 10,
      "outputs": [
        {
          "output_type": "stream",
          "text": [
            "Requirement already satisfied: p_tqdm in /usr/local/lib/python3.7/dist-packages (1.3.3)\n",
            "Requirement already satisfied: pathos in /usr/local/lib/python3.7/dist-packages (from p_tqdm) (0.2.7)\n",
            "Requirement already satisfied: six in /usr/local/lib/python3.7/dist-packages (from p_tqdm) (1.15.0)\n",
            "Requirement already satisfied: tqdm in /usr/local/lib/python3.7/dist-packages (from p_tqdm) (4.41.1)\n",
            "Requirement already satisfied: dill>=0.3.3 in /usr/local/lib/python3.7/dist-packages (from pathos->p_tqdm) (0.3.3)\n",
            "Requirement already satisfied: ppft>=1.6.6.3 in /usr/local/lib/python3.7/dist-packages (from pathos->p_tqdm) (1.6.6.3)\n",
            "Requirement already satisfied: multiprocess>=0.70.11 in /usr/local/lib/python3.7/dist-packages (from pathos->p_tqdm) (0.70.11.1)\n",
            "Requirement already satisfied: pox>=0.2.9 in /usr/local/lib/python3.7/dist-packages (from pathos->p_tqdm) (0.2.9)\n"
          ],
          "name": "stdout"
        },
        {
          "output_type": "stream",
          "text": [
            "100%|██████████| 300/300 [00:03<00:00, 95.86it/s]"
          ],
          "name": "stderr"
        },
        {
          "output_type": "stream",
          "text": [
            "Traditional computing time: 3.1330037117004395\n"
          ],
          "name": "stdout"
        },
        {
          "output_type": "stream",
          "text": [
            "\n"
          ],
          "name": "stderr"
        },
        {
          "output_type": "display_data",
          "data": {
            "application/vnd.jupyter.widget-view+json": {
              "model_id": "17122b3c7a8445a4b3ab4132fd4c45d5",
              "version_minor": 0,
              "version_major": 2
            },
            "text/plain": [
              "HBox(children=(FloatProgress(value=0.0, max=300.0), HTML(value='')))"
            ]
          },
          "metadata": {
            "tags": []
          }
        },
        {
          "output_type": "stream",
          "text": [
            "\n",
            "Parallel computing time: 1.833789587020874\n",
            "[SUCCESS] The two computations gave the same result\n"
          ],
          "name": "stdout"
        }
      ]
    }
  ]
}