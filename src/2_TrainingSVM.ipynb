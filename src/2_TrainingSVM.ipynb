{
  "nbformat": 4,
  "nbformat_minor": 0,
  "metadata": {
    "colab": {
      "name": "2_TrainingSVM.ipynb",
      "provenance": [],
      "collapsed_sections": [],
      "include_colab_link": true
    },
    "kernelspec": {
      "name": "python3",
      "display_name": "Python 3"
    },
    "language_info": {
      "name": "python"
    }
  },
  "cells": [
    {
      "cell_type": "markdown",
      "metadata": {
        "id": "view-in-github",
        "colab_type": "text"
      },
      "source": [
        "<a href=\"https://colab.research.google.com/github/magiwanders/CMLS_HW1/blob/master/src/2_TrainingSVM.ipynb\" target=\"_parent\"><img src=\"https://colab.research.google.com/assets/colab-badge.svg\" alt=\"Open In Colab\"/></a>"
      ]
    },
    {
      "cell_type": "markdown",
      "metadata": {
        "id": "Y8EWFfxrCS-j"
      },
      "source": [
        "# Urban sound dataset classification with SVM"
      ]
    },
    {
      "cell_type": "markdown",
      "metadata": {
        "id": "RoUbwhHK5GsO"
      },
      "source": [
        "## Import libraries"
      ]
    },
    {
      "cell_type": "code",
      "metadata": {
        "id": "KrTfUOFXPQIW"
      },
      "source": [
        "import numpy as np\n",
        "import librosa\n",
        "import os\n",
        "import matplotlib.pyplot as plt\n",
        "import sklearn.svm\n",
        "import IPython.display as ipd\n",
        "import scipy as sp\n",
        "from pathlib import Path\n",
        "import pandas as pd\n",
        "import re\n",
        "import json\n",
        "from sklearn.svm import NuSVC\n",
        "from sklearn.svm import SVC\n",
        "from sklearn.multiclass import OneVsRestClassifier"
      ],
      "execution_count": 2,
      "outputs": []
    },
    {
      "cell_type": "markdown",
      "metadata": {
        "id": "rZ1er2f85LoO"
      },
      "source": [
        "## Load the dataset features and check the data"
      ]
    },
    {
      "cell_type": "code",
      "metadata": {
        "colab": {
          "base_uri": "https://localhost:8080/"
        },
        "id": "Pt6f48iX1lVI",
        "outputId": "b5bc6d80-3526-4d11-f393-c9dfaf26dc7b"
      },
      "source": [
        "from google.colab import drive\n",
        "drive.mount('/content/drive')\n",
        "%cd \"/content/drive/MyDrive/CMLS_HW1_UrbanClassification/dataset\"\n",
        "%ls"
      ],
      "execution_count": 4,
      "outputs": [
        {
          "output_type": "stream",
          "text": [
            "Drive already mounted at /content/drive; to attempt to forcibly remount, call drive.mount(\"/content/drive\", force_remount=True).\n",
            "/content/drive/MyDrive/CMLS_HW1_UrbanClassification/dataset\n",
            "extracted_features.json  \u001b[0m\u001b[01;34mfold3\u001b[0m/  \u001b[01;34mfold7\u001b[0m/                prova_feature_2.json\n",
            "\u001b[01;34mfold1\u001b[0m/                   \u001b[01;34mfold4\u001b[0m/  \u001b[01;34mfold8\u001b[0m/                UrbanSound8K.csv\n",
            "\u001b[01;34mfold10\u001b[0m/                  \u001b[01;34mfold5\u001b[0m/  \u001b[01;34mfold9\u001b[0m/\n",
            "\u001b[01;34mfold2\u001b[0m/                   \u001b[01;34mfold6\u001b[0m/  prova_feature_1.json\n"
          ],
          "name": "stdout"
        }
      ]
    },
    {
      "cell_type": "code",
      "metadata": {
        "id": "YhheUnlOCLwW",
        "colab": {
          "base_uri": "https://localhost:8080/",
          "height": 206
        },
        "outputId": "fc584778-bbf5-4148-e0e3-9f7165c6be4c"
      },
      "source": [
        "# Check if the shape of the data is correct\n",
        "mfcc_pd = pd.read_json(r'extracted_features.json', orient='index')\n",
        "mfcc_pd.head()"
      ],
      "execution_count": 6,
      "outputs": [
        {
          "output_type": "execute_result",
          "data": {
            "text/html": [
              "<div>\n",
              "<style scoped>\n",
              "    .dataframe tbody tr th:only-of-type {\n",
              "        vertical-align: middle;\n",
              "    }\n",
              "\n",
              "    .dataframe tbody tr th {\n",
              "        vertical-align: top;\n",
              "    }\n",
              "\n",
              "    .dataframe thead th {\n",
              "        text-align: right;\n",
              "    }\n",
              "</style>\n",
              "<table border=\"1\" class=\"dataframe\">\n",
              "  <thead>\n",
              "    <tr style=\"text-align: right;\">\n",
              "      <th></th>\n",
              "      <th>features</th>\n",
              "      <th>shape</th>\n",
              "      <th>label_id</th>\n",
              "      <th>label</th>\n",
              "      <th>fold</th>\n",
              "    </tr>\n",
              "  </thead>\n",
              "  <tbody>\n",
              "    <tr>\n",
              "      <th>0</th>\n",
              "      <td>[[16.4946708679, -16.8162689209, 10.9875793457...</td>\n",
              "      <td>[1, 125]</td>\n",
              "      <td>4</td>\n",
              "      <td>drilling</td>\n",
              "      <td>1</td>\n",
              "    </tr>\n",
              "    <tr>\n",
              "      <th>1</th>\n",
              "      <td>[[19.0360469818, -12.7741031647, 10.8814258575...</td>\n",
              "      <td>[1, 125]</td>\n",
              "      <td>0</td>\n",
              "      <td>air_conditioner</td>\n",
              "      <td>1</td>\n",
              "    </tr>\n",
              "    <tr>\n",
              "      <th>2</th>\n",
              "      <td>[[17.4096260071, -13.1849765778, 10.8189029694...</td>\n",
              "      <td>[1, 125]</td>\n",
              "      <td>0</td>\n",
              "      <td>air_conditioner</td>\n",
              "      <td>1</td>\n",
              "    </tr>\n",
              "    <tr>\n",
              "      <th>3</th>\n",
              "      <td>[[17.1266403198, -16.0122146606, 10.2732362747...</td>\n",
              "      <td>[1, 125]</td>\n",
              "      <td>2</td>\n",
              "      <td>children_playing</td>\n",
              "      <td>1</td>\n",
              "    </tr>\n",
              "    <tr>\n",
              "      <th>4</th>\n",
              "      <td>[[14.6829175949, -17.8468894958, 10.2156419754...</td>\n",
              "      <td>[1, 125]</td>\n",
              "      <td>3</td>\n",
              "      <td>dog_bark</td>\n",
              "      <td>1</td>\n",
              "    </tr>\n",
              "  </tbody>\n",
              "</table>\n",
              "</div>"
            ],
            "text/plain": [
              "                                            features  ... fold\n",
              "0  [[16.4946708679, -16.8162689209, 10.9875793457...  ...    1\n",
              "1  [[19.0360469818, -12.7741031647, 10.8814258575...  ...    1\n",
              "2  [[17.4096260071, -13.1849765778, 10.8189029694...  ...    1\n",
              "3  [[17.1266403198, -16.0122146606, 10.2732362747...  ...    1\n",
              "4  [[14.6829175949, -17.8468894958, 10.2156419754...  ...    1\n",
              "\n",
              "[5 rows x 5 columns]"
            ]
          },
          "metadata": {
            "tags": []
          },
          "execution_count": 6
        }
      ]
    },
    {
      "cell_type": "code",
      "metadata": {
        "colab": {
          "base_uri": "https://localhost:8080/"
        },
        "id": "CYK-GS2oPnUH",
        "outputId": "7f303282-d99d-4055-8814-1243a43e8a74"
      },
      "source": [
        "# Check the correspondence between label_id and labels\n",
        "labels = set(mfcc_pd['label_id'])\n",
        "mapping = []\n",
        "for label_id in labels:\n",
        "    \n",
        "    label_name = set(mfcc_pd.loc[mfcc_pd['label_id'] == label_id]['label'])\n",
        "    mapping.append((label_id,label_name))\n",
        "label_mapping = dict(mapping)\n",
        "label_mapping"
      ],
      "execution_count": 7,
      "outputs": [
        {
          "output_type": "execute_result",
          "data": {
            "text/plain": [
              "{0: {'air_conditioner'},\n",
              " 1: {'car_horn'},\n",
              " 2: {'children_playing'},\n",
              " 3: {'dog_bark'},\n",
              " 4: {'drilling'},\n",
              " 5: {'engine_idling'},\n",
              " 6: {'gun_shot'},\n",
              " 7: {'jackhammer'},\n",
              " 8: {'siren'},\n",
              " 9: {'street_music'}}"
            ]
          },
          "metadata": {
            "tags": []
          },
          "execution_count": 7
        }
      ]
    },
    {
      "cell_type": "code",
      "metadata": {
        "colab": {
          "base_uri": "https://localhost:8080/"
        },
        "id": "P0_IjgHUVJz5",
        "outputId": "69d3a64e-d428-47b5-b146-4b479c4fef04"
      },
      "source": [
        "# Check how many audio samples for each label\n",
        "labels = set(mfcc_pd['label'])\n",
        "print(labels)\n",
        "cnt = [[label,list(mfcc_pd['label']).count(label)] for label in labels]\n",
        "dict_cnt = dict(cnt)\n",
        "dict_cnt"
      ],
      "execution_count": 8,
      "outputs": [
        {
          "output_type": "stream",
          "text": [
            "{'dog_bark', 'gun_shot', 'street_music', 'siren', 'drilling', 'engine_idling', 'car_horn', 'air_conditioner', 'children_playing', 'jackhammer'}\n"
          ],
          "name": "stdout"
        },
        {
          "output_type": "execute_result",
          "data": {
            "text/plain": [
              "{'air_conditioner': 1000,\n",
              " 'car_horn': 429,\n",
              " 'children_playing': 1000,\n",
              " 'dog_bark': 1000,\n",
              " 'drilling': 1000,\n",
              " 'engine_idling': 1000,\n",
              " 'gun_shot': 374,\n",
              " 'jackhammer': 1000,\n",
              " 'siren': 929,\n",
              " 'street_music': 1000}"
            ]
          },
          "metadata": {
            "tags": []
          },
          "execution_count": 8
        }
      ]
    },
    {
      "cell_type": "code",
      "metadata": {
        "id": "HxpH-4_bPuXm"
      },
      "source": [
        "# A cosa serve questa cosa?\n",
        "ll = [np.asarray(mfcc_pd['features'][i]).ravel() for i in range(mfcc_pd.shape[0])]\n",
        "mfcc_pd['sample'] = pd.Series(ll, index=mfcc_pd.index)\n",
        "del mfcc_pd['features']"
      ],
      "execution_count": 9,
      "outputs": []
    },
    {
      "cell_type": "markdown",
      "metadata": {
        "id": "zhCIhWCM562L"
      },
      "source": [
        "## Train and validate the SVM models"
      ]
    },
    {
      "cell_type": "code",
      "metadata": {
        "colab": {
          "base_uri": "https://localhost:8080/"
        },
        "id": "Q1whFIh7U5iW",
        "outputId": "1844511e-be5e-4cf2-a9a0-a2d101987e38"
      },
      "source": [
        "train_data = []\n",
        "train_label = []\n",
        "validation_data = []\n",
        "validation_label = []\n",
        "svm_accuracies = []\n",
        "svm_models = []\n",
        "\n",
        "num_folds = 10\n",
        "\n",
        "# Create the training and validation data\n",
        "for i in range(1, num_folds):\n",
        "  train_data.append(np.array(list(mfcc_pd.loc[mfcc_pd['fold'] != i]['sample'])))\n",
        "  train_label.append(np.array(mfcc_pd.loc[mfcc_pd['fold'] != i]['label_id']))\n",
        "  validation_data.append(np.array(list(mfcc_pd.loc[mfcc_pd['fold'] == i]['sample'])))\n",
        "  validation_label.append(np.array(mfcc_pd.loc[mfcc_pd['fold'] == i]['label_id']))\n",
        "\n",
        "# Train and validate a model for each k-fold combination\n",
        "for i in range(0,num_folds-1):  \n",
        "  print(\"train_data[%i].shape: %s, train_label[%i].shape: %s\" %(i, train_data[i].shape, i, train_label[i].shape))\n",
        "  svm = OneVsRestClassifier(NuSVC(nu=.05, kernel='poly', decision_function_shape='ovr'))\n",
        "  svm_model = svm.fit(train_data[i], train_label[i])\n",
        "  svm_models.append(svm_model)\n",
        "\n",
        "  print(\"validation_data[%i].shape: %s, validation_label[%i].shape: %s\" %(i, validation_data[i].shape, i, validation_label[i].shape))\n",
        "  svm_prediction = svm_model.predict(validation_data[i])\n",
        "\n",
        "  accuracy = np.sum(svm_prediction == validation_label[i])/validation_label[i].shape[0]\n",
        "  print(\"accuracy of model n.%i: %f\\n\" %(i, accuracy))\n",
        "  svm_accuracies.append(accuracy)"
      ],
      "execution_count": 16,
      "outputs": [
        {
          "output_type": "stream",
          "text": [
            "train_data[0].shape: (7859, 125), train_label[0].shape: (7859,)\n",
            "validation_data[0].shape: (873, 125), validation_label[0].shape: (873,)\n",
            "accuracy of model n.0: 0.578465\n",
            "\n",
            "train_data[1].shape: (7844, 125), train_label[1].shape: (7844,)\n",
            "validation_data[1].shape: (888, 125), validation_label[1].shape: (888,)\n",
            "accuracy of model n.1: 0.351351\n",
            "\n",
            "train_data[2].shape: (7807, 125), train_label[2].shape: (7807,)\n",
            "validation_data[2].shape: (925, 125), validation_label[2].shape: (925,)\n",
            "accuracy of model n.2: 0.449730\n",
            "\n",
            "train_data[3].shape: (7742, 125), train_label[3].shape: (7742,)\n",
            "validation_data[3].shape: (990, 125), validation_label[3].shape: (990,)\n",
            "accuracy of model n.3: 0.502020\n",
            "\n",
            "train_data[4].shape: (7796, 125), train_label[4].shape: (7796,)\n",
            "validation_data[4].shape: (936, 125), validation_label[4].shape: (936,)\n",
            "accuracy of model n.4: 0.518162\n",
            "\n",
            "train_data[5].shape: (7909, 125), train_label[5].shape: (7909,)\n",
            "validation_data[5].shape: (823, 125), validation_label[5].shape: (823,)\n",
            "accuracy of model n.5: 0.420413\n",
            "\n",
            "train_data[6].shape: (7894, 125), train_label[6].shape: (7894,)\n",
            "validation_data[6].shape: (838, 125), validation_label[6].shape: (838,)\n",
            "accuracy of model n.6: 0.459427\n",
            "\n",
            "train_data[7].shape: (7926, 125), train_label[7].shape: (7926,)\n",
            "validation_data[7].shape: (806, 125), validation_label[7].shape: (806,)\n",
            "accuracy of model n.7: 0.456576\n",
            "\n",
            "train_data[8].shape: (7916, 125), train_label[8].shape: (7916,)\n",
            "validation_data[8].shape: (816, 125), validation_label[8].shape: (816,)\n",
            "accuracy of model n.8: 0.558824\n",
            "\n"
          ],
          "name": "stdout"
        }
      ]
    },
    {
      "cell_type": "markdown",
      "metadata": {
        "id": "ULWynFlK5_p6"
      },
      "source": [
        "## (TODO) Print the training statistics and the confusion matrices"
      ]
    },
    {
      "cell_type": "code",
      "metadata": {
        "id": "IRKWKmnwUMjv"
      },
      "source": [
        "def confusion(true, predicted):\n",
        "    matrix = np.zeros([10,10])\n",
        "    #d = 0\n",
        "    for t, p in zip(true, predicted):\n",
        "        matrix[t,p] += 1.5\n",
        "    #    d += 1\n",
        "    #print(d)\n",
        "    return matrix"
      ],
      "execution_count": null,
      "outputs": []
    },
    {
      "cell_type": "code",
      "metadata": {
        "colab": {
          "base_uri": "https://localhost:8080/",
          "height": 699
        },
        "id": "rOEM2tY7UC2B",
        "outputId": "52b2f7c8-904c-4ab2-cdfe-680671073b29"
      },
      "source": [
        "class_names = label_mapping.values()\n",
        "matrix = confusion(validation_label, svc_prediction)\n",
        "\n",
        "plt.figure(figsize=[10,10])\n",
        "plt.imshow(matrix, cmap='hot', interpolation='nearest',  vmin=0, vmax=200)\n",
        "plt.colorbar()\n",
        "plt.title('SVM Confusion Map', fontsize=18)\n",
        "plt.ylabel('Actual', fontsize=18)\n",
        "plt.xlabel('Predicted', fontsize=18)\n",
        "plt.grid(b=False)\n",
        "plt.yticks(range(10), class_names, fontsize=14)\n",
        "plt.xticks(range(10), class_names, fontsize=14, rotation='vertical')\n",
        "plt.show()"
      ],
      "execution_count": null,
      "outputs": [
        {
          "output_type": "display_data",
          "data": {
            "image/png": "[encoded data removed]",
            "text/plain": [
              "<Figure size 720x720 with 2 Axes>"
            ]
          },
          "metadata": {
            "tags": [],
            "needs_background": "light"
          }
        }
      ]
    }
  ]
}