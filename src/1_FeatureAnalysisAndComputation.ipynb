{
  "nbformat": 4,
  "nbformat_minor": 0,
  "metadata": {
    "colab": {
      "name": "FeatureAnalysis.ipynb",
      "provenance": [],
      "authorship_tag": "ABX9TyPZRxtLvvq2uhDu6uNwe0DI",
      "include_colab_link": true
    },
    "kernelspec": {
      "name": "python3",
      "display_name": "Python 3"
    },
    "language_info": {
      "name": "python"
    }
  },
  "cells": [
    {
      "cell_type": "markdown",
      "metadata": {
        "id": "view-in-github",
        "colab_type": "text"
      },
      "source": [
        "<a href=\"https://colab.research.google.com/github/magiwanders/CMLS_HW1/blob/master/src/1_FeatureAnalysisAndComputation.ipynb\" target=\"_parent\"><img src=\"https://colab.research.google.com/assets/colab-badge.svg\" alt=\"Open In Colab\"/></a>"
      ]
    },
    {
      "cell_type": "markdown",
      "metadata": {
        "id": "IfSP1QdOmiHK"
      },
      "source": [
        "# **FEATURE ANALYSIS FOR THE DATASET**\n",
        "### Extract, plot and compare different features for the dataset (e.g. MFCC). Choose the features that enable the best differentiation between the classes."
      ]
    },
    {
      "cell_type": "markdown",
      "metadata": {
        "id": "Z_iz_L7onC2L"
      },
      "source": [
        "# Mount the drive and enter the dataset directory"
      ]
    },
    {
      "cell_type": "code",
      "metadata": {
        "id": "OEkgXe_RmesK"
      },
      "source": [
        "from google.colab import drive\n",
        "drive.mount('/content/drive')\n",
        "%cd \"/content/drive/MyDrive/CMLS_HW1_UrbanClassification/dataset\"\n",
        "%ls | grep fold"
      ],
      "execution_count": null,
      "outputs": []
    },
    {
      "cell_type": "markdown",
      "metadata": {
        "id": "eXSIlhPMnMML"
      },
      "source": [
        "# Import libraries"
      ]
    },
    {
      "cell_type": "code",
      "metadata": {
        "id": "4seGkmINnYZa"
      },
      "source": [
        "import numpy as np\n",
        "import librosa\n",
        "import os\n",
        "import matplotlib.pyplot as plt\n",
        "import sklearn.svm\n",
        "import IPython.display as ipd\n",
        "import scipy as sp"
      ],
      "execution_count": null,
      "outputs": []
    },
    {
      "cell_type": "markdown",
      "metadata": {
        "id": "BgoshUtonaTL"
      },
      "source": [
        "# Define helper functions"
      ]
    },
    {
      "cell_type": "code",
      "metadata": {
        "id": "gzyMS3lqndOO"
      },
      "source": [
        "## Mel-frequency cepstral coefficients\n",
        "\n",
        "def compute_mfcc(audio, fs, n_mfcc):\n",
        "    # Compute the spectrogram of the audio signal\n",
        "    X = np.abs(librosa.stft(\n",
        "        audio,\n",
        "        window='hamming',\n",
        "        n_fft=1024,\n",
        "        hop_length=512,)\n",
        "        )\n",
        "    \n",
        "    # Find the weights of the mel filters\n",
        "    mel = librosa.filters.mel(\n",
        "        sr=fs,\n",
        "        n_fft=1024,\n",
        "        n_mels=40,\n",
        "        fmin=133.33,\n",
        "        fmax=6853.8,\n",
        "    )\n",
        "    \n",
        "    # Apply the filters to spectrogram\n",
        "    melspectrogram = np.dot(mel, X)\n",
        "    # Take the logarithm\n",
        "    log_melspectrogram = np.log10(melspectrogram + 1e-16)\n",
        "    \n",
        "    # Apply the DCT to log melspectrogram to obtain the coefficients\n",
        "    mfcc = sp.fftpack.dct(log_melspectrogram, axis=0, norm='ortho')[1:n_mfcc+1]\n",
        "    return mfcc"
      ],
      "execution_count": null,
      "outputs": []
    },
    {
      "cell_type": "markdown",
      "metadata": {
        "id": "iNYq08Qsn7ho"
      },
      "source": [
        "# Compute the features for each dataset fold and plot them"
      ]
    },
    {
      "cell_type": "code",
      "metadata": {
        "id": "b2NFjkvaob5h"
      },
      "source": [
        "# Assume that the dataset is in the current directory\n",
        "dataset_path = Path(\".\")\n",
        "\n",
        "# For each directory, which corresponds to a fold ...\n",
        "for current_fold_dir in dataset_path.iterdir():\n",
        "  # Check if the directory is really a directory\n",
        "  if current_fold_dir.is_dir():\n",
        "    # Save the current fold number\n",
        "    current_fold_number = re.findall('[0-9-]+', str(current_fold_dir)) # Extract the fold number with regex\n",
        "    print(\"Scanning fold %i of 10\", current_fold_number)#, end='\\x1b[1K\\r') # Status printing with line clearing\n",
        "    \n",
        "    # For each audio file in current_fold_dir\n",
        "    for current_audio_dir in (dataset_path / current_fold_dir).iterdir():\n",
        "      # Check if it's really a file and not a folder\n",
        "      if not current_audio_dir.is_dir():\n",
        "        ##########\n",
        "        ## TODO ##\n",
        "        ##########"
      ],
      "execution_count": null,
      "outputs": []
    }
  ]
}