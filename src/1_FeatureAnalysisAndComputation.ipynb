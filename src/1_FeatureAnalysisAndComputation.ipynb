{
  "nbformat": 4,
  "nbformat_minor": 0,
  "metadata": {
    "colab": {
      "name": "1_FeatureAnalysisAndComputation.ipynb",
      "provenance": [],
      "include_colab_link": true
    },
    "kernelspec": {
      "name": "python3",
      "display_name": "Python 3"
    },
    "language_info": {
      "name": "python"
    },
    "widgets": {
      "application/vnd.jupyter.widget-state+json": {
        "ce6f1c9597b14aa4a8e015737bf15eec": {
          "model_module": "@jupyter-widgets/controls",
          "model_name": "HBoxModel",
          "state": {
            "_view_name": "HBoxView",
            "_dom_classes": [],
            "_model_name": "HBoxModel",
            "_view_module": "@jupyter-widgets/controls",
            "_model_module_version": "1.5.0",
            "_view_count": null,
            "_view_module_version": "1.5.0",
            "box_style": "",
            "layout": "IPY_MODEL_41ce77e7ac0842e4b81afc320eb6d178",
            "_model_module": "@jupyter-widgets/controls",
            "children": [
              "IPY_MODEL_b70fd0c8aab94de994bed10c3323d3f9",
              "IPY_MODEL_be6b9bf2dd80418087ea5bd648b948b8"
            ]
          }
        },
        "41ce77e7ac0842e4b81afc320eb6d178": {
          "model_module": "@jupyter-widgets/base",
          "model_name": "LayoutModel",
          "state": {
            "_view_name": "LayoutView",
            "grid_template_rows": null,
            "right": null,
            "justify_content": null,
            "_view_module": "@jupyter-widgets/base",
            "overflow": null,
            "_model_module_version": "1.2.0",
            "_view_count": null,
            "flex_flow": null,
            "width": null,
            "min_width": null,
            "border": null,
            "align_items": null,
            "bottom": null,
            "_model_module": "@jupyter-widgets/base",
            "top": null,
            "grid_column": null,
            "overflow_y": null,
            "overflow_x": null,
            "grid_auto_flow": null,
            "grid_area": null,
            "grid_template_columns": null,
            "flex": null,
            "_model_name": "LayoutModel",
            "justify_items": null,
            "grid_row": null,
            "max_height": null,
            "align_content": null,
            "visibility": null,
            "align_self": null,
            "height": null,
            "min_height": null,
            "padding": null,
            "grid_auto_rows": null,
            "grid_gap": null,
            "max_width": null,
            "order": null,
            "_view_module_version": "1.2.0",
            "grid_template_areas": null,
            "object_position": null,
            "object_fit": null,
            "grid_auto_columns": null,
            "margin": null,
            "display": null,
            "left": null
          }
        },
        "b70fd0c8aab94de994bed10c3323d3f9": {
          "model_module": "@jupyter-widgets/controls",
          "model_name": "FloatProgressModel",
          "state": {
            "_view_name": "ProgressView",
            "style": "IPY_MODEL_f09e6608b504427d82df7089c364066f",
            "_dom_classes": [],
            "description": "  0%",
            "_model_name": "FloatProgressModel",
            "bar_style": "danger",
            "max": 11,
            "_view_module": "@jupyter-widgets/controls",
            "_model_module_version": "1.5.0",
            "value": 0,
            "_view_count": null,
            "_view_module_version": "1.5.0",
            "orientation": "horizontal",
            "min": 0,
            "description_tooltip": null,
            "_model_module": "@jupyter-widgets/controls",
            "layout": "IPY_MODEL_38afff27486f4b77823433584b1b2d19"
          }
        },
        "be6b9bf2dd80418087ea5bd648b948b8": {
          "model_module": "@jupyter-widgets/controls",
          "model_name": "HTMLModel",
          "state": {
            "_view_name": "HTMLView",
            "style": "IPY_MODEL_d816a8c773764e38960c442c28227466",
            "_dom_classes": [],
            "description": "",
            "_model_name": "HTMLModel",
            "placeholder": "​",
            "_view_module": "@jupyter-widgets/controls",
            "_model_module_version": "1.5.0",
            "value": " 0/11 [01:54&lt;?, ?it/s]",
            "_view_count": null,
            "_view_module_version": "1.5.0",
            "description_tooltip": null,
            "_model_module": "@jupyter-widgets/controls",
            "layout": "IPY_MODEL_6c669d68ed4f4457aa9823ecd127f92d"
          }
        },
        "f09e6608b504427d82df7089c364066f": {
          "model_module": "@jupyter-widgets/controls",
          "model_name": "ProgressStyleModel",
          "state": {
            "_view_name": "StyleView",
            "_model_name": "ProgressStyleModel",
            "description_width": "initial",
            "_view_module": "@jupyter-widgets/base",
            "_model_module_version": "1.5.0",
            "_view_count": null,
            "_view_module_version": "1.2.0",
            "bar_color": null,
            "_model_module": "@jupyter-widgets/controls"
          }
        },
        "38afff27486f4b77823433584b1b2d19": {
          "model_module": "@jupyter-widgets/base",
          "model_name": "LayoutModel",
          "state": {
            "_view_name": "LayoutView",
            "grid_template_rows": null,
            "right": null,
            "justify_content": null,
            "_view_module": "@jupyter-widgets/base",
            "overflow": null,
            "_model_module_version": "1.2.0",
            "_view_count": null,
            "flex_flow": null,
            "width": null,
            "min_width": null,
            "border": null,
            "align_items": null,
            "bottom": null,
            "_model_module": "@jupyter-widgets/base",
            "top": null,
            "grid_column": null,
            "overflow_y": null,
            "overflow_x": null,
            "grid_auto_flow": null,
            "grid_area": null,
            "grid_template_columns": null,
            "flex": null,
            "_model_name": "LayoutModel",
            "justify_items": null,
            "grid_row": null,
            "max_height": null,
            "align_content": null,
            "visibility": null,
            "align_self": null,
            "height": null,
            "min_height": null,
            "padding": null,
            "grid_auto_rows": null,
            "grid_gap": null,
            "max_width": null,
            "order": null,
            "_view_module_version": "1.2.0",
            "grid_template_areas": null,
            "object_position": null,
            "object_fit": null,
            "grid_auto_columns": null,
            "margin": null,
            "display": null,
            "left": null
          }
        },
        "d816a8c773764e38960c442c28227466": {
          "model_module": "@jupyter-widgets/controls",
          "model_name": "DescriptionStyleModel",
          "state": {
            "_view_name": "StyleView",
            "_model_name": "DescriptionStyleModel",
            "description_width": "",
            "_view_module": "@jupyter-widgets/base",
            "_model_module_version": "1.5.0",
            "_view_count": null,
            "_view_module_version": "1.2.0",
            "_model_module": "@jupyter-widgets/controls"
          }
        },
        "6c669d68ed4f4457aa9823ecd127f92d": {
          "model_module": "@jupyter-widgets/base",
          "model_name": "LayoutModel",
          "state": {
            "_view_name": "LayoutView",
            "grid_template_rows": null,
            "right": null,
            "justify_content": null,
            "_view_module": "@jupyter-widgets/base",
            "overflow": null,
            "_model_module_version": "1.2.0",
            "_view_count": null,
            "flex_flow": null,
            "width": null,
            "min_width": null,
            "border": null,
            "align_items": null,
            "bottom": null,
            "_model_module": "@jupyter-widgets/base",
            "top": null,
            "grid_column": null,
            "overflow_y": null,
            "overflow_x": null,
            "grid_auto_flow": null,
            "grid_area": null,
            "grid_template_columns": null,
            "flex": null,
            "_model_name": "LayoutModel",
            "justify_items": null,
            "grid_row": null,
            "max_height": null,
            "align_content": null,
            "visibility": null,
            "align_self": null,
            "height": null,
            "min_height": null,
            "padding": null,
            "grid_auto_rows": null,
            "grid_gap": null,
            "max_width": null,
            "order": null,
            "_view_module_version": "1.2.0",
            "grid_template_areas": null,
            "object_position": null,
            "object_fit": null,
            "grid_auto_columns": null,
            "margin": null,
            "display": null,
            "left": null
          }
        }
      }
    }
  },
  "cells": [
    {
      "cell_type": "markdown",
      "metadata": {
        "id": "view-in-github",
        "colab_type": "text"
      },
      "source": [
        "<a href=\"https://colab.research.google.com/github/magiwanders/CMLS_HW1/blob/master/src/1_FeatureAnalysisAndComputation.ipynb\" target=\"_parent\"><img src=\"https://colab.research.google.com/assets/colab-badge.svg\" alt=\"Open In Colab\"/></a>"
      ]
    },
    {
      "cell_type": "markdown",
      "metadata": {
        "id": "IfSP1QdOmiHK"
      },
      "source": [
        "# **FEATURE ANALYSIS FOR THE DATASET**\n",
        "### Extract, plot and compare different features for the dataset (e.g. MFCC). Choose the features that enable the best differentiation between the classes."
      ]
    },
    {
      "cell_type": "markdown",
      "metadata": {
        "id": "Z_iz_L7onC2L"
      },
      "source": [
        "# Mount the drive and enter the dataset directory"
      ]
    },
    {
      "cell_type": "code",
      "metadata": {
        "id": "OEkgXe_RmesK",
        "colab": {
          "base_uri": "https://localhost:8080/"
        },
        "outputId": "81e9f79b-7e0e-4e80-b815-664fd0849aab"
      },
      "source": [
        "from google.colab import drive\n",
        "drive.mount('/content/drive')\n",
        "%cd \"/content/drive/MyDrive/CMLS_HW1_UrbanClassification/dataset\"\n",
        "%ls | grep fold"
      ],
      "execution_count": null,
      "outputs": [
        {
          "output_type": "stream",
          "text": [
            "Mounted at /content/drive\n",
            "/content/drive/.shortcut-targets-by-id/1i9lEcEb5PQxKCFXJaoO3WLS2p3xBnkij/CMLS_HW1_UrbanClassification/dataset\n",
            "\u001b[0m\u001b[01;34mfold1\u001b[0m/\n",
            "\u001b[01;34mfold10\u001b[0m/\n",
            "\u001b[01;34mfold2\u001b[0m/\n",
            "\u001b[01;34mfold3\u001b[0m/\n",
            "\u001b[01;34mfold4\u001b[0m/\n",
            "\u001b[01;34mfold5\u001b[0m/\n",
            "\u001b[01;34mfold6\u001b[0m/\n",
            "\u001b[01;34mfold7\u001b[0m/\n",
            "\u001b[01;34mfold8\u001b[0m/\n",
            "\u001b[01;34mfold9\u001b[0m/\n"
          ],
          "name": "stdout"
        }
      ]
    },
    {
      "cell_type": "markdown",
      "metadata": {
        "id": "eXSIlhPMnMML"
      },
      "source": [
        "# Import libraries"
      ]
    },
    {
      "cell_type": "code",
      "metadata": {
        "id": "4seGkmINnYZa",
        "colab": {
          "base_uri": "https://localhost:8080/"
        },
        "outputId": "1876687d-059f-42a8-9e1f-268a7dc27443"
      },
      "source": [
        "import numpy as np\n",
        "import librosa\n",
        "import os\n",
        "import matplotlib.pyplot as plt\n",
        "import sklearn.svm\n",
        "import IPython.display as ipd\n",
        "import scipy as sp\n",
        "from pathlib import Path\n",
        "import pandas as pd\n",
        "import re\n",
        "import json\n",
        "from multiprocessing import Pool\n",
        "!pip install p_tqdm\n",
        "import numpy as np\n",
        "import time\n",
        "from tqdm import tqdm\n",
        "from p_tqdm import p_map\n",
        "import multiprocessing"
      ],
      "execution_count": null,
      "outputs": [
        {
          "output_type": "stream",
          "text": [
            "Collecting p_tqdm\n",
            "  Downloading https://files.pythonhosted.org/packages/b9/c4/ce6abe2fa3868b1ea9216a81522a9ece36f47bdbb966f8f31f76e2967178/p_tqdm-1.3.3.tar.gz\n",
            "Requirement already satisfied: tqdm in /usr/local/lib/python3.7/dist-packages (from p_tqdm) (4.41.1)\n",
            "Collecting pathos\n",
            "\u001b[?25l  Downloading https://files.pythonhosted.org/packages/10/9e/0100b1d500851fc8e093da5463ca38e013c86ea0855e7c510ca0d3e1f7c1/pathos-0.2.7-py2.py3-none-any.whl (81kB)\n",
            "\u001b[K     |████████████████████████████████| 81kB 3.1MB/s \n",
            "\u001b[?25hRequirement already satisfied: six in /usr/local/lib/python3.7/dist-packages (from p_tqdm) (1.15.0)\n",
            "Collecting ppft>=1.6.6.3\n",
            "\u001b[?25l  Downloading https://files.pythonhosted.org/packages/51/7b/e63dcf1f9b5ecd37691ee8a7029f71ddb7cafab780a60e312d913afc0f29/ppft-1.6.6.3-py3-none-any.whl (65kB)\n",
            "\u001b[K     |████████████████████████████████| 71kB 4.3MB/s \n",
            "\u001b[?25hRequirement already satisfied: multiprocess>=0.70.11 in /usr/local/lib/python3.7/dist-packages (from pathos->p_tqdm) (0.70.11.1)\n",
            "Collecting pox>=0.2.9\n",
            "  Downloading https://files.pythonhosted.org/packages/6b/06/600e1b1103336ce94cf01e63a6c7b134f0edccf59bbf99189c975e2f257e/pox-0.2.9-py2.py3-none-any.whl\n",
            "Requirement already satisfied: dill>=0.3.3 in /usr/local/lib/python3.7/dist-packages (from pathos->p_tqdm) (0.3.3)\n",
            "Building wheels for collected packages: p-tqdm\n",
            "  Building wheel for p-tqdm (setup.py) ... \u001b[?25l\u001b[?25hdone\n",
            "  Created wheel for p-tqdm: filename=p_tqdm-1.3.3-cp37-none-any.whl size=3987 sha256=61138f0f9e1b1590de3bf9595a669d42a7ae2cb0067013be70f4d7504a50fe4e\n",
            "  Stored in directory: /root/.cache/pip/wheels/72/26/f7/18d7dcd10ebd3f81fab3f52e07c61b5771cd21c29f69c7a0e9\n",
            "Successfully built p-tqdm\n",
            "Installing collected packages: ppft, pox, pathos, p-tqdm\n",
            "Successfully installed p-tqdm-1.3.3 pathos-0.2.7 pox-0.2.9 ppft-1.6.6.3\n"
          ],
          "name": "stdout"
        }
      ]
    },
    {
      "cell_type": "markdown",
      "metadata": {
        "id": "TAQOJup3CAYz"
      },
      "source": [
        "#Import the Dataset Metadata"
      ]
    },
    {
      "cell_type": "code",
      "metadata": {
        "id": "gzyMS3lqndOO",
        "colab": {
          "base_uri": "https://localhost:8080/",
          "height": 204
        },
        "outputId": "7b4b438a-52ca-49b3-c8a6-2889105e93e4"
      },
      "source": [
        "metadata = pd.read_csv('UrbanSound8K.csv')\n",
        "metadata.head()"
      ],
      "execution_count": null,
      "outputs": [
        {
          "output_type": "execute_result",
          "data": {
            "text/html": [
              "<div>\n",
              "<style scoped>\n",
              "    .dataframe tbody tr th:only-of-type {\n",
              "        vertical-align: middle;\n",
              "    }\n",
              "\n",
              "    .dataframe tbody tr th {\n",
              "        vertical-align: top;\n",
              "    }\n",
              "\n",
              "    .dataframe thead th {\n",
              "        text-align: right;\n",
              "    }\n",
              "</style>\n",
              "<table border=\"1\" class=\"dataframe\">\n",
              "  <thead>\n",
              "    <tr style=\"text-align: right;\">\n",
              "      <th></th>\n",
              "      <th>slice_file_name</th>\n",
              "      <th>fsID</th>\n",
              "      <th>start</th>\n",
              "      <th>end</th>\n",
              "      <th>salience</th>\n",
              "      <th>fold</th>\n",
              "      <th>classID</th>\n",
              "      <th>className</th>\n",
              "    </tr>\n",
              "  </thead>\n",
              "  <tbody>\n",
              "    <tr>\n",
              "      <th>0</th>\n",
              "      <td>100032-3-0-0.wav</td>\n",
              "      <td>100032</td>\n",
              "      <td>0.0</td>\n",
              "      <td>0.317551</td>\n",
              "      <td>1</td>\n",
              "      <td>5</td>\n",
              "      <td>3</td>\n",
              "      <td>dog_bark</td>\n",
              "    </tr>\n",
              "    <tr>\n",
              "      <th>1</th>\n",
              "      <td>100263-2-0-117.wav</td>\n",
              "      <td>100263</td>\n",
              "      <td>58.5</td>\n",
              "      <td>62.500000</td>\n",
              "      <td>1</td>\n",
              "      <td>5</td>\n",
              "      <td>2</td>\n",
              "      <td>children_playing</td>\n",
              "    </tr>\n",
              "    <tr>\n",
              "      <th>2</th>\n",
              "      <td>100263-2-0-121.wav</td>\n",
              "      <td>100263</td>\n",
              "      <td>60.5</td>\n",
              "      <td>64.500000</td>\n",
              "      <td>1</td>\n",
              "      <td>5</td>\n",
              "      <td>2</td>\n",
              "      <td>children_playing</td>\n",
              "    </tr>\n",
              "    <tr>\n",
              "      <th>3</th>\n",
              "      <td>100263-2-0-126.wav</td>\n",
              "      <td>100263</td>\n",
              "      <td>63.0</td>\n",
              "      <td>67.000000</td>\n",
              "      <td>1</td>\n",
              "      <td>5</td>\n",
              "      <td>2</td>\n",
              "      <td>children_playing</td>\n",
              "    </tr>\n",
              "    <tr>\n",
              "      <th>4</th>\n",
              "      <td>100263-2-0-137.wav</td>\n",
              "      <td>100263</td>\n",
              "      <td>68.5</td>\n",
              "      <td>72.500000</td>\n",
              "      <td>1</td>\n",
              "      <td>5</td>\n",
              "      <td>2</td>\n",
              "      <td>children_playing</td>\n",
              "    </tr>\n",
              "  </tbody>\n",
              "</table>\n",
              "</div>"
            ],
            "text/plain": [
              "      slice_file_name    fsID  start  ...  fold  classID         className\n",
              "0    100032-3-0-0.wav  100032    0.0  ...     5        3          dog_bark\n",
              "1  100263-2-0-117.wav  100263   58.5  ...     5        2  children_playing\n",
              "2  100263-2-0-121.wav  100263   60.5  ...     5        2  children_playing\n",
              "3  100263-2-0-126.wav  100263   63.0  ...     5        2  children_playing\n",
              "4  100263-2-0-137.wav  100263   68.5  ...     5        2  children_playing\n",
              "\n",
              "[5 rows x 8 columns]"
            ]
          },
          "metadata": {
            "tags": []
          },
          "execution_count": 4
        }
      ]
    },
    {
      "cell_type": "markdown",
      "metadata": {
        "id": "BgoshUtonaTL"
      },
      "source": [
        "# Define helper functions"
      ]
    },
    {
      "cell_type": "code",
      "metadata": {
        "id": "UpoWZcC-0GrK"
      },
      "source": [
        "def compute_mfcc(audio, fs, win_length, hop_size, n_mfcc):\n",
        "    # Compute the spectrogram of the audio signal\n",
        "    X = np.abs(librosa.stft(\n",
        "        audio,\n",
        "        window='hamming',\n",
        "        n_fft=win_length,\n",
        "        hop_length=hop_size,)\n",
        "        )\n",
        "    \n",
        "    # Find the weights of the mel filters\n",
        "    mel = librosa.filters.mel(\n",
        "        sr=fs,\n",
        "        n_fft=win_length,\n",
        "        n_mels=40,\n",
        "        fmin=0,\n",
        "        fmax=fs,\n",
        "    )\n",
        "    \n",
        "    # Apply the filters to spectrogram\n",
        "    melspectrogram = np.dot(mel, X)\n",
        "    # Take the logarithm\n",
        "    log_melspectrogram = np.log10(melspectrogram + 1e-16)\n",
        "    \n",
        "    # Apply the DCT to log melspectrogram to obtain the coefficients\n",
        "    mfcc = sp.fftpack.dct(log_melspectrogram, axis=0, norm='ortho')[1:n_mfcc+1]\n",
        "    return mfcc"
      ],
      "execution_count": null,
      "outputs": []
    },
    {
      "cell_type": "code",
      "metadata": {
        "id": "roNZ6pc7yZPU"
      },
      "source": [
        "def extract_features(x, fs, win_length, hop_size, n_mfcc):\n",
        "    mfcc = compute_mfcc(x, fs, win_length, hop_size, n_mfcc);\n",
        "    \n",
        "    # take the statistics over time of the mfccs\n",
        "    min = np.min(mfcc, axis=1);\n",
        "    max = np.max(mfcc, axis=1);\n",
        "    mean = np.mean(mfcc, axis=1);\n",
        "    median = np.median(mfcc, axis=1);\n",
        "    variance = np.var(mfcc, axis=1);\n",
        "\n",
        "    # in total I should have 25*5 = 125 features per audio frame\n",
        "    features = np.empty((0,125))\n",
        "    ext_features = np.hstack([min, max, mean, median, variance])\n",
        "    features = np.vstack([features,ext_features])\n",
        "\n",
        "    return features"
      ],
      "execution_count": null,
      "outputs": []
    },
    {
      "cell_type": "markdown",
      "metadata": {
        "id": "iNYq08Qsn7ho"
      },
      "source": [
        "# Compute the features for each dataset fold"
      ]
    },
    {
      "cell_type": "code",
      "metadata": {
        "id": "b2NFjkvaob5h",
        "colab": {
          "base_uri": "https://localhost:8080/",
          "height": 511,
          "referenced_widgets": [
            "ce6f1c9597b14aa4a8e015737bf15eec",
            "41ce77e7ac0842e4b81afc320eb6d178",
            "b70fd0c8aab94de994bed10c3323d3f9",
            "be6b9bf2dd80418087ea5bd648b948b8",
            "f09e6608b504427d82df7089c364066f",
            "38afff27486f4b77823433584b1b2d19",
            "d816a8c773764e38960c442c28227466",
            "6c669d68ed4f4457aa9823ecd127f92d"
          ]
        },
        "outputId": "519ae24f-1b40-4871-b673-37077eeb1460"
      },
      "source": [
        "# Assume that the dataset is in the current directory\n",
        "dataset_path = Path(\".\")\n",
        "\n",
        "Fs = 22050;\n",
        "\n",
        "win_length = int(np.ceil(0.0232*Fs))   # should return a 512 samples window\n",
        "hop_size = int(0.5*win_length)\n",
        "\n",
        "n_mfcc = 25;\n",
        "\n",
        "mfcc_data = []\n",
        "\n",
        "# Se qualcuno conosce il modo intelligente di fare quanto sotto sostituisca pure\n",
        "print(dataset_path.iterdir())\n",
        "list_of_folds = []\n",
        "for current_fold_dir in dataset_path.iterdir():\n",
        "  if current_fold_dir.is_dir() and \"fold\" in str(current_fold_dir):\n",
        "    list_of_folds.append(current_fold_dir)\n",
        "\n",
        "print(list_of_folds)\n",
        "\n",
        "def scan_folder(current_fold_dir):\n",
        "  #   # Check if the directory is really a directory\n",
        "    if current_fold_dir.is_dir():\n",
        "      # Save the current fold number\n",
        "      current_fold_number = re.findall('[0-9-]+', str(current_fold_dir)) # Extract the fold number with regex\n",
        "      #print(\"Scanning fold {} of 10\" .format(current_fold_number))#, end='\\x1b[1K\\r') # Status printing with line clearing\n",
        "\n",
        "      mfcc_data_folder = []\n",
        "      # For each audio file in current_fold_dir\n",
        "      l=0\n",
        "      for current_audio_dir in (current_fold_dir).iterdir():\n",
        "        l+=1\n",
        "        # Check if it's really a file and not a fold\n",
        "        if not current_audio_dir.is_dir() and os.path.splitext(current_audio_dir)[1] == '.wav':\n",
        "          filename = current_audio_dir.stem + '.wav'\n",
        "          #print(\"Currently processing: {}\" .format(filename))\n",
        "          #print(\"Scanning fold {} of 10\" .format(current_fold_number))#, end='\\x1b[1K\\r') # Status printing with line clearing\n",
        "\n",
        "          x, sr = librosa.load(current_audio_dir, sr=Fs)\n",
        "\n",
        "          features = extract_features(x, Fs, win_length, hop_size, n_mfcc)\n",
        "\n",
        "          metadata_row = metadata.loc[metadata['slice_file_name']==filename].values.tolist()\n",
        "          label = metadata_row[0][-1];\n",
        "          label_id = metadata_row[0][-2];\n",
        "          fold = metadata_row[0][-3]\n",
        "\n",
        "          mfcc_data_folder.append([features, features.shape, label_id, label, fold])\n",
        "\n",
        "    # print(\"Che cos'è sta roba:\")\n",
        "    # print(np.asarray(mfcc_data_folder).shape)\n",
        "    mfcc_data_folder = np.asarray(mfcc_data_folder)\n",
        "    return [mfcc_data_folder.shape[0], mfcc_data_folder]\n",
        "\n",
        "if __name__ == '__main__':\n",
        "    mfcc_data_folder_array = np.asarray(p_map(scan_folder, list_of_folds))\n",
        "\n",
        "dim = np.sum(np.asarray(mfcc_data_folder_array[:,0]))\n",
        "mfcc_data_folder_array = np.asarray(mfcc_data_folder_array[:,1])\n",
        "#print(mfcc_data_folder_array[0].shape)\n",
        "\n",
        "i=0\n",
        "j=0\n",
        "for folder in mfcc_data_folder_array:\n",
        "    j=0\n",
        "    for sound in folder:\n",
        "        mfcc_data.append(mfcc_data_folder_array[i][j])\n",
        "        j+=1\n",
        "    i+=1\n",
        "\n",
        "mfcc_data = np.asarray(mfcc_data)\n",
        "print(mfcc_data.shape)"
      ],
      "execution_count": null,
      "outputs": [
        {
          "output_type": "stream",
          "text": [
            "<generator object Path.iterdir at 0x7f7ddd1339d0>\n",
            "[PosixPath('fold1'), PosixPath('fold4'), PosixPath('fold2'), PosixPath('fold3'), PosixPath('fold6'), PosixPath('fold5'), PosixPath('fold7'), PosixPath('fold8'), PosixPath('fold9'), PosixPath('fold10'), PosixPath('.ipynb_checkpoints')]\n"
          ],
          "name": "stdout"
        },
        {
          "output_type": "display_data",
          "data": {
            "application/vnd.jupyter.widget-view+json": {
              "model_id": "ce6f1c9597b14aa4a8e015737bf15eec",
              "version_minor": 0,
              "version_major": 2
            },
            "text/plain": [
              "HBox(children=(FloatProgress(value=0.0, max=11.0), HTML(value='')))"
            ]
          },
          "metadata": {
            "tags": []
          }
        },
        {
          "output_type": "error",
          "ename": "KeyboardInterrupt",
          "evalue": "ignored",
          "traceback": [
            "\u001b[0;31m---------------------------------------------------------------------------\u001b[0m",
            "\u001b[0;31mIndexError\u001b[0m                                Traceback (most recent call last)",
            "\u001b[0;32m/usr/local/lib/python3.7/dist-packages/multiprocess/pool.py\u001b[0m in \u001b[0;36mnext\u001b[0;34m(self, timeout)\u001b[0m\n\u001b[1;32m    732\u001b[0m             \u001b[0;32mtry\u001b[0m\u001b[0;34m:\u001b[0m\u001b[0;34m\u001b[0m\u001b[0;34m\u001b[0m\u001b[0m\n\u001b[0;32m--> 733\u001b[0;31m                 \u001b[0mitem\u001b[0m \u001b[0;34m=\u001b[0m \u001b[0mself\u001b[0m\u001b[0;34m.\u001b[0m\u001b[0m_items\u001b[0m\u001b[0;34m.\u001b[0m\u001b[0mpopleft\u001b[0m\u001b[0;34m(\u001b[0m\u001b[0;34m)\u001b[0m\u001b[0;34m\u001b[0m\u001b[0;34m\u001b[0m\u001b[0m\n\u001b[0m\u001b[1;32m    734\u001b[0m             \u001b[0;32mexcept\u001b[0m \u001b[0mIndexError\u001b[0m\u001b[0;34m:\u001b[0m\u001b[0;34m\u001b[0m\u001b[0;34m\u001b[0m\u001b[0m\n",
            "\u001b[0;31mIndexError\u001b[0m: pop from an empty deque",
            "\nDuring handling of the above exception, another exception occurred:\n",
            "\u001b[0;31mKeyboardInterrupt\u001b[0m                         Traceback (most recent call last)",
            "\u001b[0;32m<ipython-input-10-cdd8177a158d>\u001b[0m in \u001b[0;36m<module>\u001b[0;34m()\u001b[0m\n\u001b[1;32m     76\u001b[0m \u001b[0;34m\u001b[0m\u001b[0m\n\u001b[1;32m     77\u001b[0m \u001b[0;32mif\u001b[0m \u001b[0m__name__\u001b[0m \u001b[0;34m==\u001b[0m \u001b[0;34m'__main__'\u001b[0m\u001b[0;34m:\u001b[0m\u001b[0;34m\u001b[0m\u001b[0;34m\u001b[0m\u001b[0m\n\u001b[0;32m---> 78\u001b[0;31m     \u001b[0mout_parall\u001b[0m \u001b[0;34m=\u001b[0m \u001b[0mp_map\u001b[0m\u001b[0;34m(\u001b[0m\u001b[0mhi\u001b[0m\u001b[0;34m,\u001b[0m \u001b[0mlist_of_folds\u001b[0m\u001b[0;34m)\u001b[0m\u001b[0;34m\u001b[0m\u001b[0;34m\u001b[0m\u001b[0m\n\u001b[0m",
            "\u001b[0;32m/usr/local/lib/python3.7/dist-packages/p_tqdm/p_tqdm.py\u001b[0m in \u001b[0;36mp_map\u001b[0;34m(function, *iterables, **kwargs)\u001b[0m\n\u001b[1;32m     58\u001b[0m     \u001b[0mordered\u001b[0m \u001b[0;34m=\u001b[0m \u001b[0;32mTrue\u001b[0m\u001b[0;34m\u001b[0m\u001b[0;34m\u001b[0m\u001b[0m\n\u001b[1;32m     59\u001b[0m     \u001b[0mgenerator\u001b[0m \u001b[0;34m=\u001b[0m \u001b[0m_parallel\u001b[0m\u001b[0;34m(\u001b[0m\u001b[0mordered\u001b[0m\u001b[0;34m,\u001b[0m \u001b[0mfunction\u001b[0m\u001b[0;34m,\u001b[0m \u001b[0;34m*\u001b[0m\u001b[0miterables\u001b[0m\u001b[0;34m,\u001b[0m \u001b[0;34m**\u001b[0m\u001b[0mkwargs\u001b[0m\u001b[0;34m)\u001b[0m\u001b[0;34m\u001b[0m\u001b[0;34m\u001b[0m\u001b[0m\n\u001b[0;32m---> 60\u001b[0;31m     \u001b[0mresult\u001b[0m \u001b[0;34m=\u001b[0m \u001b[0mlist\u001b[0m\u001b[0;34m(\u001b[0m\u001b[0mgenerator\u001b[0m\u001b[0;34m)\u001b[0m\u001b[0;34m\u001b[0m\u001b[0;34m\u001b[0m\u001b[0m\n\u001b[0m\u001b[1;32m     61\u001b[0m \u001b[0;34m\u001b[0m\u001b[0m\n\u001b[1;32m     62\u001b[0m     \u001b[0;32mreturn\u001b[0m \u001b[0mresult\u001b[0m\u001b[0;34m\u001b[0m\u001b[0;34m\u001b[0m\u001b[0m\n",
            "\u001b[0;32m/usr/local/lib/python3.7/dist-packages/p_tqdm/p_tqdm.py\u001b[0m in \u001b[0;36m_parallel\u001b[0;34m(ordered, function, *iterables, **kwargs)\u001b[0m\n\u001b[1;32m     47\u001b[0m     \u001b[0mmap_func\u001b[0m \u001b[0;34m=\u001b[0m \u001b[0mgetattr\u001b[0m\u001b[0;34m(\u001b[0m\u001b[0mpool\u001b[0m\u001b[0;34m,\u001b[0m \u001b[0mmap_type\u001b[0m\u001b[0;34m)\u001b[0m\u001b[0;34m\u001b[0m\u001b[0;34m\u001b[0m\u001b[0m\n\u001b[1;32m     48\u001b[0m \u001b[0;34m\u001b[0m\u001b[0m\n\u001b[0;32m---> 49\u001b[0;31m     \u001b[0;32mfor\u001b[0m \u001b[0mitem\u001b[0m \u001b[0;32min\u001b[0m \u001b[0mtqdm\u001b[0m\u001b[0;34m(\u001b[0m\u001b[0mmap_func\u001b[0m\u001b[0;34m(\u001b[0m\u001b[0mfunction\u001b[0m\u001b[0;34m,\u001b[0m \u001b[0;34m*\u001b[0m\u001b[0miterables\u001b[0m\u001b[0;34m)\u001b[0m\u001b[0;34m,\u001b[0m \u001b[0mtotal\u001b[0m\u001b[0;34m=\u001b[0m\u001b[0mlength\u001b[0m\u001b[0;34m,\u001b[0m \u001b[0;34m**\u001b[0m\u001b[0mkwargs\u001b[0m\u001b[0;34m)\u001b[0m\u001b[0;34m:\u001b[0m\u001b[0;34m\u001b[0m\u001b[0;34m\u001b[0m\u001b[0m\n\u001b[0m\u001b[1;32m     50\u001b[0m         \u001b[0;32myield\u001b[0m \u001b[0mitem\u001b[0m\u001b[0;34m\u001b[0m\u001b[0;34m\u001b[0m\u001b[0m\n\u001b[1;32m     51\u001b[0m \u001b[0;34m\u001b[0m\u001b[0m\n",
            "\u001b[0;32m/usr/local/lib/python3.7/dist-packages/tqdm/notebook.py\u001b[0m in \u001b[0;36m__iter__\u001b[0;34m(self, *args, **kwargs)\u001b[0m\n\u001b[1;32m    213\u001b[0m     \u001b[0;32mdef\u001b[0m \u001b[0m__iter__\u001b[0m\u001b[0;34m(\u001b[0m\u001b[0mself\u001b[0m\u001b[0;34m,\u001b[0m \u001b[0;34m*\u001b[0m\u001b[0margs\u001b[0m\u001b[0;34m,\u001b[0m \u001b[0;34m**\u001b[0m\u001b[0mkwargs\u001b[0m\u001b[0;34m)\u001b[0m\u001b[0;34m:\u001b[0m\u001b[0;34m\u001b[0m\u001b[0;34m\u001b[0m\u001b[0m\n\u001b[1;32m    214\u001b[0m         \u001b[0;32mtry\u001b[0m\u001b[0;34m:\u001b[0m\u001b[0;34m\u001b[0m\u001b[0;34m\u001b[0m\u001b[0m\n\u001b[0;32m--> 215\u001b[0;31m             \u001b[0;32mfor\u001b[0m \u001b[0mobj\u001b[0m \u001b[0;32min\u001b[0m \u001b[0msuper\u001b[0m\u001b[0;34m(\u001b[0m\u001b[0mtqdm_notebook\u001b[0m\u001b[0;34m,\u001b[0m \u001b[0mself\u001b[0m\u001b[0;34m)\u001b[0m\u001b[0;34m.\u001b[0m\u001b[0m__iter__\u001b[0m\u001b[0;34m(\u001b[0m\u001b[0;34m*\u001b[0m\u001b[0margs\u001b[0m\u001b[0;34m,\u001b[0m \u001b[0;34m**\u001b[0m\u001b[0mkwargs\u001b[0m\u001b[0;34m)\u001b[0m\u001b[0;34m:\u001b[0m\u001b[0;34m\u001b[0m\u001b[0;34m\u001b[0m\u001b[0m\n\u001b[0m\u001b[1;32m    216\u001b[0m                 \u001b[0;31m# return super(tqdm...) will not catch exception\u001b[0m\u001b[0;34m\u001b[0m\u001b[0;34m\u001b[0m\u001b[0;34m\u001b[0m\u001b[0m\n\u001b[1;32m    217\u001b[0m                 \u001b[0;32myield\u001b[0m \u001b[0mobj\u001b[0m\u001b[0;34m\u001b[0m\u001b[0;34m\u001b[0m\u001b[0m\n",
            "\u001b[0;32m/usr/local/lib/python3.7/dist-packages/tqdm/std.py\u001b[0m in \u001b[0;36m__iter__\u001b[0;34m(self)\u001b[0m\n\u001b[1;32m   1102\u001b[0m                 fp_write=getattr(self.fp, 'write', sys.stderr.write))\n\u001b[1;32m   1103\u001b[0m \u001b[0;34m\u001b[0m\u001b[0m\n\u001b[0;32m-> 1104\u001b[0;31m         \u001b[0;32mfor\u001b[0m \u001b[0mobj\u001b[0m \u001b[0;32min\u001b[0m \u001b[0miterable\u001b[0m\u001b[0;34m:\u001b[0m\u001b[0;34m\u001b[0m\u001b[0;34m\u001b[0m\u001b[0m\n\u001b[0m\u001b[1;32m   1105\u001b[0m             \u001b[0;32myield\u001b[0m \u001b[0mobj\u001b[0m\u001b[0;34m\u001b[0m\u001b[0;34m\u001b[0m\u001b[0m\n\u001b[1;32m   1106\u001b[0m             \u001b[0;31m# Update and possibly print the progressbar.\u001b[0m\u001b[0;34m\u001b[0m\u001b[0;34m\u001b[0m\u001b[0;34m\u001b[0m\u001b[0m\n",
            "\u001b[0;32m/usr/local/lib/python3.7/dist-packages/multiprocess/pool.py\u001b[0m in \u001b[0;36mnext\u001b[0;34m(self, timeout)\u001b[0m\n\u001b[1;32m    735\u001b[0m                 \u001b[0;32mif\u001b[0m \u001b[0mself\u001b[0m\u001b[0;34m.\u001b[0m\u001b[0m_index\u001b[0m \u001b[0;34m==\u001b[0m \u001b[0mself\u001b[0m\u001b[0;34m.\u001b[0m\u001b[0m_length\u001b[0m\u001b[0;34m:\u001b[0m\u001b[0;34m\u001b[0m\u001b[0;34m\u001b[0m\u001b[0m\n\u001b[1;32m    736\u001b[0m                     \u001b[0;32mraise\u001b[0m \u001b[0mStopIteration\u001b[0m \u001b[0;32mfrom\u001b[0m \u001b[0;32mNone\u001b[0m\u001b[0;34m\u001b[0m\u001b[0;34m\u001b[0m\u001b[0m\n\u001b[0;32m--> 737\u001b[0;31m                 \u001b[0mself\u001b[0m\u001b[0;34m.\u001b[0m\u001b[0m_cond\u001b[0m\u001b[0;34m.\u001b[0m\u001b[0mwait\u001b[0m\u001b[0;34m(\u001b[0m\u001b[0mtimeout\u001b[0m\u001b[0;34m)\u001b[0m\u001b[0;34m\u001b[0m\u001b[0;34m\u001b[0m\u001b[0m\n\u001b[0m\u001b[1;32m    738\u001b[0m                 \u001b[0;32mtry\u001b[0m\u001b[0;34m:\u001b[0m\u001b[0;34m\u001b[0m\u001b[0;34m\u001b[0m\u001b[0m\n\u001b[1;32m    739\u001b[0m                     \u001b[0mitem\u001b[0m \u001b[0;34m=\u001b[0m \u001b[0mself\u001b[0m\u001b[0;34m.\u001b[0m\u001b[0m_items\u001b[0m\u001b[0;34m.\u001b[0m\u001b[0mpopleft\u001b[0m\u001b[0;34m(\u001b[0m\u001b[0;34m)\u001b[0m\u001b[0;34m\u001b[0m\u001b[0;34m\u001b[0m\u001b[0m\n",
            "\u001b[0;32m/usr/lib/python3.7/threading.py\u001b[0m in \u001b[0;36mwait\u001b[0;34m(self, timeout)\u001b[0m\n\u001b[1;32m    294\u001b[0m         \u001b[0;32mtry\u001b[0m\u001b[0;34m:\u001b[0m    \u001b[0;31m# restore state no matter what (e.g., KeyboardInterrupt)\u001b[0m\u001b[0;34m\u001b[0m\u001b[0;34m\u001b[0m\u001b[0m\n\u001b[1;32m    295\u001b[0m             \u001b[0;32mif\u001b[0m \u001b[0mtimeout\u001b[0m \u001b[0;32mis\u001b[0m \u001b[0;32mNone\u001b[0m\u001b[0;34m:\u001b[0m\u001b[0;34m\u001b[0m\u001b[0;34m\u001b[0m\u001b[0m\n\u001b[0;32m--> 296\u001b[0;31m                 \u001b[0mwaiter\u001b[0m\u001b[0;34m.\u001b[0m\u001b[0macquire\u001b[0m\u001b[0;34m(\u001b[0m\u001b[0;34m)\u001b[0m\u001b[0;34m\u001b[0m\u001b[0;34m\u001b[0m\u001b[0m\n\u001b[0m\u001b[1;32m    297\u001b[0m                 \u001b[0mgotit\u001b[0m \u001b[0;34m=\u001b[0m \u001b[0;32mTrue\u001b[0m\u001b[0;34m\u001b[0m\u001b[0;34m\u001b[0m\u001b[0m\n\u001b[1;32m    298\u001b[0m             \u001b[0;32melse\u001b[0m\u001b[0;34m:\u001b[0m\u001b[0;34m\u001b[0m\u001b[0;34m\u001b[0m\u001b[0m\n",
            "\u001b[0;31mKeyboardInterrupt\u001b[0m: "
          ]
        }
      ]
    },
    {
      "cell_type": "code",
      "metadata": {
        "id": "88YXyPTFFFMb"
      },
      "source": [
        "cols=[\"features\", \"shape\",\"label_id\", \"label\", \"fold\"]\n",
        "mfcc_pd = pd.DataFrame(data = mfcc_data, columns=cols)"
      ],
      "execution_count": null,
      "outputs": []
    },
    {
      "cell_type": "code",
      "metadata": {
        "colab": {
          "base_uri": "https://localhost:8080/",
          "height": 49
        },
        "id": "uZGhHwM5_x3i",
        "outputId": "132a73e6-3921-4395-c874-9186af549bab"
      },
      "source": [
        "mfcc_pd.head()"
      ],
      "execution_count": null,
      "outputs": [
        {
          "output_type": "execute_result",
          "data": {
            "text/html": [
              "<div>\n",
              "<style scoped>\n",
              "    .dataframe tbody tr th:only-of-type {\n",
              "        vertical-align: middle;\n",
              "    }\n",
              "\n",
              "    .dataframe tbody tr th {\n",
              "        vertical-align: top;\n",
              "    }\n",
              "\n",
              "    .dataframe thead th {\n",
              "        text-align: right;\n",
              "    }\n",
              "</style>\n",
              "<table border=\"1\" class=\"dataframe\">\n",
              "  <thead>\n",
              "    <tr style=\"text-align: right;\">\n",
              "      <th></th>\n",
              "      <th>features</th>\n",
              "      <th>shape</th>\n",
              "      <th>label_id</th>\n",
              "      <th>label</th>\n",
              "      <th>fold</th>\n",
              "    </tr>\n",
              "  </thead>\n",
              "  <tbody>\n",
              "  </tbody>\n",
              "</table>\n",
              "</div>"
            ],
            "text/plain": [
              "Empty DataFrame\n",
              "Columns: [features, shape, label_id, label, fold]\n",
              "Index: []"
            ]
          },
          "metadata": {
            "tags": []
          },
          "execution_count": 78
        }
      ]
    },
    {
      "cell_type": "code",
      "metadata": {
        "id": "283mWhthYIQg"
      },
      "source": [
        "mfcc_json = mfcc_pd.to_json(r'prova_feature_1.json', orient='index')\n",
        "# parsed = json.loads(mfcc_json)\n",
        "# json.dumps(parsed, indent=4)\n"
      ],
      "execution_count": null,
      "outputs": []
    },
    {
      "cell_type": "code",
      "metadata": {
        "id": "UxXx6JE2cH3k"
      },
      "source": [
        "mfcc_pd_loaded = pd.read_json(r'prova_feature_1.json', orient='index')"
      ],
      "execution_count": null,
      "outputs": []
    },
    {
      "cell_type": "code",
      "metadata": {
        "colab": {
          "base_uri": "https://localhost:8080/",
          "height": 194
        },
        "id": "xzR6CYblcrlf",
        "outputId": "30ec02c0-a05a-4d01-b647-5d68f663d9ce"
      },
      "source": [
        "mfcc_pd_loaded.head()"
      ],
      "execution_count": null,
      "outputs": [
        {
          "output_type": "execute_result",
          "data": {
            "text/html": [
              "<div>\n",
              "<style scoped>\n",
              "    .dataframe tbody tr th:only-of-type {\n",
              "        vertical-align: middle;\n",
              "    }\n",
              "\n",
              "    .dataframe tbody tr th {\n",
              "        vertical-align: top;\n",
              "    }\n",
              "\n",
              "    .dataframe thead th {\n",
              "        text-align: right;\n",
              "    }\n",
              "</style>\n",
              "<table border=\"1\" class=\"dataframe\">\n",
              "  <thead>\n",
              "    <tr style=\"text-align: right;\">\n",
              "      <th></th>\n",
              "      <th>shape</th>\n",
              "      <th>label_id</th>\n",
              "      <th>label</th>\n",
              "      <th>fold</th>\n",
              "      <th>sample</th>\n",
              "    </tr>\n",
              "  </thead>\n",
              "  <tbody>\n",
              "    <tr>\n",
              "      <th>0</th>\n",
              "      <td>[1, 125]</td>\n",
              "      <td>3</td>\n",
              "      <td>dog_bark</td>\n",
              "      <td>1</td>\n",
              "      <td>[14.9781341553, -13.4497470856, 9.22123909, -1...</td>\n",
              "    </tr>\n",
              "    <tr>\n",
              "      <th>1</th>\n",
              "      <td>[1, 125]</td>\n",
              "      <td>6</td>\n",
              "      <td>gun_shot</td>\n",
              "      <td>1</td>\n",
              "      <td>[11.5654029846, -14.1882009506, 8.8127670288, ...</td>\n",
              "    </tr>\n",
              "    <tr>\n",
              "      <th>2</th>\n",
              "      <td>[1, 125]</td>\n",
              "      <td>3</td>\n",
              "      <td>dog_bark</td>\n",
              "      <td>1</td>\n",
              "      <td>[15.2881679535, -13.8906269073, 9.5015745163, ...</td>\n",
              "    </tr>\n",
              "    <tr>\n",
              "      <th>3</th>\n",
              "      <td>[1, 125]</td>\n",
              "      <td>3</td>\n",
              "      <td>dog_bark</td>\n",
              "      <td>1</td>\n",
              "      <td>[16.1191730499, -12.8394641876, 10.6445789337,...</td>\n",
              "    </tr>\n",
              "    <tr>\n",
              "      <th>4</th>\n",
              "      <td>[1, 125]</td>\n",
              "      <td>7</td>\n",
              "      <td>jackhammer</td>\n",
              "      <td>1</td>\n",
              "      <td>[16.8805580139, -15.4316043854, 11.1742210388,...</td>\n",
              "    </tr>\n",
              "  </tbody>\n",
              "</table>\n",
              "</div>"
            ],
            "text/plain": [
              "      shape  label_id  ... fold                                             sample\n",
              "0  [1, 125]         3  ...    1  [14.9781341553, -13.4497470856, 9.22123909, -1...\n",
              "1  [1, 125]         6  ...    1  [11.5654029846, -14.1882009506, 8.8127670288, ...\n",
              "2  [1, 125]         3  ...    1  [15.2881679535, -13.8906269073, 9.5015745163, ...\n",
              "3  [1, 125]         3  ...    1  [16.1191730499, -12.8394641876, 10.6445789337,...\n",
              "4  [1, 125]         7  ...    1  [16.8805580139, -15.4316043854, 11.1742210388,...\n",
              "\n",
              "[5 rows x 5 columns]"
            ]
          },
          "metadata": {
            "tags": []
          },
          "execution_count": 27
        }
      ]
    },
    {
      "cell_type": "code",
      "metadata": {
        "colab": {
          "base_uri": "https://localhost:8080/"
        },
        "id": "pEB4jjdI_8TW",
        "outputId": "1cbc6163-b321-49e5-9336-28811e7eca55"
      },
      "source": [
        "labels = set(mfcc_pd['label'])\n",
        "print(labels)\n",
        "cnt = [[label,list(mfcc_pd['label']).count(label)] for label in labels]\n",
        "dict_cnt = dict(cnt)\n",
        "dict_cnt"
      ],
      "execution_count": null,
      "outputs": [
        {
          "output_type": "stream",
          "text": [
            "{'dog_bark', 'jackhammer', 'street_music', 'engine_idling', 'children_playing', 'gun_shot', 'air_conditioner', 'drilling', 'siren', 'car_horn'}\n"
          ],
          "name": "stdout"
        },
        {
          "output_type": "execute_result",
          "data": {
            "text/plain": [
              "{'air_conditioner': 100,\n",
              " 'car_horn': 36,\n",
              " 'children_playing': 100,\n",
              " 'dog_bark': 100,\n",
              " 'drilling': 100,\n",
              " 'engine_idling': 96,\n",
              " 'gun_shot': 35,\n",
              " 'jackhammer': 120,\n",
              " 'siren': 86,\n",
              " 'street_music': 100}"
            ]
          },
          "metadata": {
            "tags": []
          },
          "execution_count": 9
        }
      ]
    },
    {
      "cell_type": "code",
      "metadata": {
        "id": "WH6mNjXXAQrb"
      },
      "source": [
        "ll = [mfcc_pd['features'][i].ravel() for i in range(mfcc_pd.shape[0])]\n",
        "mfcc_pd['sample'] = pd.Series(ll, index=mfcc_pd.index)\n",
        "del mfcc_pd['features']"
      ],
      "execution_count": null,
      "outputs": []
    },
    {
      "cell_type": "code",
      "metadata": {
        "colab": {
          "base_uri": "https://localhost:8080/",
          "height": 194
        },
        "id": "mPIGTjuSAahs",
        "outputId": "a4833e9a-eb3a-4fb4-9d00-937d5b282cea"
      },
      "source": [
        "mfcc_pd.head()"
      ],
      "execution_count": null,
      "outputs": [
        {
          "output_type": "execute_result",
          "data": {
            "text/html": [
              "<div>\n",
              "<style scoped>\n",
              "    .dataframe tbody tr th:only-of-type {\n",
              "        vertical-align: middle;\n",
              "    }\n",
              "\n",
              "    .dataframe tbody tr th {\n",
              "        vertical-align: top;\n",
              "    }\n",
              "\n",
              "    .dataframe thead th {\n",
              "        text-align: right;\n",
              "    }\n",
              "</style>\n",
              "<table border=\"1\" class=\"dataframe\">\n",
              "  <thead>\n",
              "    <tr style=\"text-align: right;\">\n",
              "      <th></th>\n",
              "      <th>shape</th>\n",
              "      <th>label_id</th>\n",
              "      <th>label</th>\n",
              "      <th>fold</th>\n",
              "      <th>sample</th>\n",
              "    </tr>\n",
              "  </thead>\n",
              "  <tbody>\n",
              "    <tr>\n",
              "      <th>0</th>\n",
              "      <td>(1, 125)</td>\n",
              "      <td>3</td>\n",
              "      <td>dog_bark</td>\n",
              "      <td>1</td>\n",
              "      <td>[14.978134155273438, -13.449747085571289, 9.22...</td>\n",
              "    </tr>\n",
              "    <tr>\n",
              "      <th>1</th>\n",
              "      <td>(1, 125)</td>\n",
              "      <td>6</td>\n",
              "      <td>gun_shot</td>\n",
              "      <td>1</td>\n",
              "      <td>[11.56540298461914, -14.188200950622559, 8.812...</td>\n",
              "    </tr>\n",
              "    <tr>\n",
              "      <th>2</th>\n",
              "      <td>(1, 125)</td>\n",
              "      <td>3</td>\n",
              "      <td>dog_bark</td>\n",
              "      <td>1</td>\n",
              "      <td>[15.288167953491211, -13.890626907348633, 9.50...</td>\n",
              "    </tr>\n",
              "    <tr>\n",
              "      <th>3</th>\n",
              "      <td>(1, 125)</td>\n",
              "      <td>3</td>\n",
              "      <td>dog_bark</td>\n",
              "      <td>1</td>\n",
              "      <td>[16.119173049926758, -12.83946418762207, 10.64...</td>\n",
              "    </tr>\n",
              "    <tr>\n",
              "      <th>4</th>\n",
              "      <td>(1, 125)</td>\n",
              "      <td>7</td>\n",
              "      <td>jackhammer</td>\n",
              "      <td>1</td>\n",
              "      <td>[16.880558013916016, -15.431604385375977, 11.1...</td>\n",
              "    </tr>\n",
              "  </tbody>\n",
              "</table>\n",
              "</div>"
            ],
            "text/plain": [
              "      shape  label_id  ... fold                                             sample\n",
              "0  (1, 125)         3  ...    1  [14.978134155273438, -13.449747085571289, 9.22...\n",
              "1  (1, 125)         6  ...    1  [11.56540298461914, -14.188200950622559, 8.812...\n",
              "2  (1, 125)         3  ...    1  [15.288167953491211, -13.890626907348633, 9.50...\n",
              "3  (1, 125)         3  ...    1  [16.119173049926758, -12.83946418762207, 10.64...\n",
              "4  (1, 125)         7  ...    1  [16.880558013916016, -15.431604385375977, 11.1...\n",
              "\n",
              "[5 rows x 5 columns]"
            ]
          },
          "metadata": {
            "tags": []
          },
          "execution_count": 11
        }
      ]
    },
    {
      "cell_type": "code",
      "metadata": {
        "id": "96u6-WPYQGEA"
      },
      "source": [
        ""
      ],
      "execution_count": null,
      "outputs": []
    }
  ]
}