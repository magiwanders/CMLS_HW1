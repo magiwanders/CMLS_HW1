{
  "nbformat": 4,
  "nbformat_minor": 0,
  "metadata": {
    "colab": {
      "name": "DatasetAnalysis.ipynb",
      "provenance": [],
      "authorship_tag": "ABX9TyNAJDypP0eanf/3xEkxTjK0",
      "include_colab_link": true
    },
    "kernelspec": {
      "name": "python3",
      "display_name": "Python 3"
    },
    "language_info": {
      "name": "python"
    }
  },
  "cells": [
    {
      "cell_type": "markdown",
      "metadata": {
        "id": "view-in-github",
        "colab_type": "text"
      },
      "source": [
        "<a href=\"https://colab.research.google.com/github/magiwanders/CMLS_HW1/blob/master/src/DatasetAnalysis.ipynb\" target=\"_parent\"><img src=\"https://colab.research.google.com/assets/colab-badge.svg\" alt=\"Open In Colab\"/></a>"
      ]
    },
    {
      "cell_type": "markdown",
      "metadata": {
        "id": "c1-rO5ADFtvH"
      },
      "source": [
        "# **ANALYSIS OF THE DATASET**\n",
        "### Count and plot how many examples for each class are present in each fold. Analyze the length and format of each audio segment. Check if the audio segments are mono or stereo."
      ]
    },
    {
      "cell_type": "markdown",
      "metadata": {
        "id": "-Ad4PIZ0GHh7"
      },
      "source": [
        "# Mount the drive and enter the dataset directory"
      ]
    },
    {
      "cell_type": "code",
      "metadata": {
        "colab": {
          "base_uri": "https://localhost:8080/"
        },
        "id": "j1sYmYIIFqbV",
        "outputId": "ad55cf36-10c6-4e0a-d096-3c362c063d86"
      },
      "source": [
        "from google.colab import drive\n",
        "drive.mount('/content/drive')\n",
        "%cd \"/content/drive/MyDrive/CMLS_HW1_UrbanClassification/dataset\"\n",
        "%ls | grep fold"
      ],
      "execution_count": null,
      "outputs": [
        {
          "output_type": "stream",
          "text": [
            "Mounted at /content/drive\n",
            "/content/drive/MyDrive/CMLS_HW1_UrbanClassification/dataset\n",
            "\u001b[0m\u001b[01;34mfold1\u001b[0m/\n",
            "\u001b[01;34mfold10\u001b[0m/\n",
            "\u001b[01;34mfold2\u001b[0m/\n",
            "\u001b[01;34mfold3\u001b[0m/\n",
            "\u001b[01;34mfold4\u001b[0m/\n",
            "\u001b[01;34mfold5\u001b[0m/\n",
            "\u001b[01;34mfold6\u001b[0m/\n",
            "\u001b[01;34mfold7\u001b[0m/\n",
            "\u001b[01;34mfold8\u001b[0m/\n",
            "\u001b[01;34mfold9\u001b[0m/\n"
          ],
          "name": "stdout"
        }
      ]
    },
    {
      "cell_type": "markdown",
      "metadata": {
        "id": "OCc3ftcAl-Ia"
      },
      "source": [
        "# Analyze the dataset"
      ]
    },
    {
      "cell_type": "code",
      "metadata": {
        "id": "PFCypRGymLvT"
      },
      "source": [
        "# Assume that the dataset is in the current directory\n",
        "dataset_path = Path(\".\")\n",
        "\n",
        "# For each directory, which corresponds to a fold ...\n",
        "for current_fold_dir in dataset_path.iterdir():\n",
        "  # Check if the directory is really a directory\n",
        "  if current_fold_dir.is_dir():\n",
        "    # Save the current fold number\n",
        "    current_fold_number = re.findall('[0-9-]+', str(current_fold_dir)) # Extract the fold number with regex\n",
        "    print(\"Scanning fold %i of 10\", current_fold_number)#, end='\\x1b[1K\\r') # Status printing with line clearing\n",
        "    \n",
        "    # For each audio file in current_fold_dir\n",
        "    for current_audio_dir in (dataset_path / current_fold_dir).iterdir():\n",
        "      # Check if it's really a file and not a folder\n",
        "      if not current_audio_dir.is_dir():\n",
        "        ## TODO: ##\n",
        "        # Extract the class of the audio file with regex\n",
        "        # Increment the counter for the current class in the current fold\n",
        "        # Check if the file is mono or stereo\n",
        "        # Check the duration of the audio file"
      ],
      "execution_count": null,
      "outputs": []
    },
    {
      "cell_type": "markdown",
      "metadata": {
        "id": "X_6pdXDYtvR9"
      },
      "source": [
        "# Plot / print the results of the analysis"
      ]
    },
    {
      "cell_type": "code",
      "metadata": {
        "id": "k-9KxJoNtzNi"
      },
      "source": [
        "## TODO ##"
      ],
      "execution_count": null,
      "outputs": []
    }
  ]
}