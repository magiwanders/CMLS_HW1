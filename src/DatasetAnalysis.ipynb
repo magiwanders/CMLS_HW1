{
  "nbformat": 4,
  "nbformat_minor": 0,
  "metadata": {
    "colab": {
      "name": "DatasetAnalysis.ipynb",
      "provenance": [],
      "authorship_tag": "ABX9TyMuZmpQ3Np8d9DkHQdjXmIH",
      "include_colab_link": true
    },
    "kernelspec": {
      "name": "python3",
      "display_name": "Python 3"
    },
    "language_info": {
      "name": "python"
    }
  },
  "cells": [
    {
      "cell_type": "markdown",
      "metadata": {
        "id": "view-in-github",
        "colab_type": "text"
      },
      "source": [
        "<a href=\"https://colab.research.google.com/github/magiwanders/CMLS_HW1/blob/master/src/DatasetAnalysis.ipynb\" target=\"_parent\"><img src=\"https://colab.research.google.com/assets/colab-badge.svg\" alt=\"Open In Colab\"/></a>"
      ]
    },
    {
      "cell_type": "markdown",
      "metadata": {
        "id": "c1-rO5ADFtvH"
      },
      "source": [
        "# Analysis of the dataset"
      ]
    },
    {
      "cell_type": "markdown",
      "metadata": {
        "id": "-Ad4PIZ0GHh7"
      },
      "source": [
        "# Mount the drive and enter the dataset directory"
      ]
    },
    {
      "cell_type": "code",
      "metadata": {
        "colab": {
          "base_uri": "https://localhost:8080/"
        },
        "id": "j1sYmYIIFqbV",
        "outputId": "ad55cf36-10c6-4e0a-d096-3c362c063d86"
      },
      "source": [
        "from google.colab import drive\n",
        "drive.mount('/content/drive')\n",
        "%cd \"/content/drive/MyDrive/CMLS_HW1_UrbanClassification/dataset\"\n",
        "%ls | grep fold"
      ],
      "execution_count": 1,
      "outputs": [
        {
          "output_type": "stream",
          "text": [
            "Mounted at /content/drive\n",
            "/content/drive/MyDrive/CMLS_HW1_UrbanClassification/dataset\n",
            "\u001b[0m\u001b[01;34mfold1\u001b[0m/\n",
            "\u001b[01;34mfold10\u001b[0m/\n",
            "\u001b[01;34mfold2\u001b[0m/\n",
            "\u001b[01;34mfold3\u001b[0m/\n",
            "\u001b[01;34mfold4\u001b[0m/\n",
            "\u001b[01;34mfold5\u001b[0m/\n",
            "\u001b[01;34mfold6\u001b[0m/\n",
            "\u001b[01;34mfold7\u001b[0m/\n",
            "\u001b[01;34mfold8\u001b[0m/\n",
            "\u001b[01;34mfold9\u001b[0m/\n"
          ],
          "name": "stdout"
        }
      ]
    }
  ]
}