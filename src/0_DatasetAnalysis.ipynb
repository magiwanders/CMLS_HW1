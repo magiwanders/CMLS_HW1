{
  "nbformat": 4,
  "nbformat_minor": 0,
  "metadata": {
    "colab": {
      "name": "0_DatasetAnalysis.ipynb",
      "provenance": [],
      "collapsed_sections": [
        "OCc3ftcAl-Ia"
      ],
      "toc_visible": true,
      "include_colab_link": true
    },
    "kernelspec": {
      "name": "python3",
      "display_name": "Python 3"
    },
    "language_info": {
      "name": "python"
    }
  },
  "cells": [
    {
      "cell_type": "markdown",
      "metadata": {
        "id": "view-in-github",
        "colab_type": "text"
      },
      "source": [
        "<a href=\"https://colab.research.google.com/github/magiwanders/CMLS_HW1/blob/master/src/0_DatasetAnalysis.ipynb\" target=\"_parent\"><img src=\"https://colab.research.google.com/assets/colab-badge.svg\" alt=\"Open In Colab\"/></a>"
      ]
    },
    {
      "cell_type": "markdown",
      "metadata": {
        "id": "c1-rO5ADFtvH"
      },
      "source": [
        "# **ANALYSIS OF THE DATASET**\n",
        "### Count and plot how many examples for each class are present in each fold. Analyze the length and format of each audio segment. Check if the audio segments are mono or stereo."
      ]
    },
    {
      "cell_type": "markdown",
      "metadata": {
        "id": "X599OWBjHyCj"
      },
      "source": [
        "# Import libraries"
      ]
    },
    {
      "cell_type": "code",
      "metadata": {
        "id": "t904SfELH0_O"
      },
      "source": [
        "import pandas as pd\n",
        "import numpy as np"
      ],
      "execution_count": 1,
      "outputs": []
    },
    {
      "cell_type": "markdown",
      "metadata": {
        "id": "-Ad4PIZ0GHh7"
      },
      "source": [
        "# Mount the drive and enter the dataset directory"
      ]
    },
    {
      "cell_type": "code",
      "metadata": {
        "colab": {
          "base_uri": "https://localhost:8080/"
        },
        "id": "j1sYmYIIFqbV",
        "outputId": "810c3beb-751a-48ef-a5a4-0cb67f71c9ad"
      },
      "source": [
        "from google.colab import drive\n",
        "drive.mount('/content/drive')\n",
        "%cd \"/content/drive/MyDrive/CMLS_HW1_UrbanClassification/dataset\"\n",
        "%ls"
      ],
      "execution_count": 2,
      "outputs": [
        {
          "output_type": "stream",
          "text": [
            "Mounted at /content/drive\n",
            "/content/drive/MyDrive/CMLS_HW1_UrbanClassification/dataset\n",
            "\u001b[0m\u001b[01;34mfold1\u001b[0m/   \u001b[01;34mfold2\u001b[0m/  \u001b[01;34mfold4\u001b[0m/  \u001b[01;34mfold6\u001b[0m/  \u001b[01;34mfold8\u001b[0m/  UrbanSound8K.csv\n",
            "\u001b[01;34mfold10\u001b[0m/  \u001b[01;34mfold3\u001b[0m/  \u001b[01;34mfold5\u001b[0m/  \u001b[01;34mfold7\u001b[0m/  \u001b[01;34mfold9\u001b[0m/\n"
          ],
          "name": "stdout"
        }
      ]
    },
    {
      "cell_type": "markdown",
      "metadata": {
        "id": "OCc3ftcAl-Ia"
      },
      "source": [
        "# Analyze the dataset distribution from the audio files (optional)"
      ]
    },
    {
      "cell_type": "code",
      "metadata": {
        "id": "PFCypRGymLvT"
      },
      "source": [
        "# Assume that the dataset is in the current directory\n",
        "dataset_path = Path(\".\")\n",
        "\n",
        "# For each directory, which corresponds to a fold ...\n",
        "for current_fold_dir in dataset_path.iterdir():\n",
        "  # Check if the directory is really a directory\n",
        "  if current_fold_dir.is_dir():\n",
        "    # Save the current fold number\n",
        "    current_fold_number = re.findall('[0-9-]+', str(current_fold_dir)) # Extract the fold number with regex\n",
        "    print(\"Scanning fold %i of 10\", current_fold_number)#, end='\\x1b[1K\\r') # Status printing with line clearing\n",
        "    \n",
        "    # For each audio file in current_fold_dir\n",
        "    for current_audio_dir in (dataset_path / current_fold_dir).iterdir():\n",
        "      # Check if it's really a file and not a folder\n",
        "      if not current_audio_dir.is_dir():\n",
        "        ## TODO: ##\n",
        "        # Extract the class of the audio file with regex\n",
        "        # Increment the counter for the current class in the current fold\n",
        "        # Check if the file is mono or stereo\n",
        "        # Check the duration of the audio file"
      ],
      "execution_count": null,
      "outputs": []
    },
    {
      "cell_type": "markdown",
      "metadata": {
        "id": "kU8h8BvGHXUm"
      },
      "source": [
        "# Analyze the dataset distribution from the CSV metadata (recommended)"
      ]
    },
    {
      "cell_type": "markdown",
      "metadata": {
        "id": "bx41Jr-iGlDB"
      },
      "source": [
        "## Load the metadata"
      ]
    },
    {
      "cell_type": "code",
      "metadata": {
        "id": "A0TSbLycB-fu"
      },
      "source": [
        "class_names = [\"air_conditioner\", \"car_horn\", \"children_playing\", \"dog_bark\",\n",
        "               \"drilling\", \"engine_idling\", \"gun_shot\", \"jackhammer\",\n",
        "               \"siren\", \"street_music\"]"
      ],
      "execution_count": 3,
      "outputs": []
    },
    {
      "cell_type": "code",
      "metadata": {
        "colab": {
          "base_uri": "https://localhost:8080/"
        },
        "id": "_UuoNp-AHex1",
        "outputId": "498e12ac-32ea-4f26-ded5-1ae3c75eb24b"
      },
      "source": [
        "dataset_metadata = pd.read_csv('UrbanSound8K.csv')\n",
        "print(dataset_metadata)"
      ],
      "execution_count": 4,
      "outputs": [
        {
          "output_type": "stream",
          "text": [
            "         slice_file_name    fsID       start  ...  fold  classID         className\n",
            "0       100032-3-0-0.wav  100032    0.000000  ...     5        3          dog_bark\n",
            "1     100263-2-0-117.wav  100263   58.500000  ...     5        2  children_playing\n",
            "2     100263-2-0-121.wav  100263   60.500000  ...     5        2  children_playing\n",
            "3     100263-2-0-126.wav  100263   63.000000  ...     5        2  children_playing\n",
            "4     100263-2-0-137.wav  100263   68.500000  ...     5        2  children_playing\n",
            "...                  ...     ...         ...  ...   ...      ...               ...\n",
            "8727     99812-1-2-0.wav   99812  159.522205  ...     7        1          car_horn\n",
            "8728     99812-1-3-0.wav   99812  181.142431  ...     7        1          car_horn\n",
            "8729     99812-1-4-0.wav   99812  242.691902  ...     7        1          car_horn\n",
            "8730     99812-1-5-0.wav   99812  253.209850  ...     7        1          car_horn\n",
            "8731     99812-1-6-0.wav   99812  332.289233  ...     7        1          car_horn\n",
            "\n",
            "[8732 rows x 8 columns]\n"
          ],
          "name": "stdout"
        }
      ]
    },
    {
      "cell_type": "code",
      "metadata": {
        "colab": {
          "base_uri": "https://localhost:8080/"
        },
        "id": "hRRs-DjXBJ60",
        "outputId": "8e4bcec1-451d-4010-c58e-f8b37d6f0b10"
      },
      "source": [
        "dataset_metadata = pd.read_csv('UrbanSound8K.csv',\n",
        "                               usecols = ['fold', 'classID', 'className'],\n",
        "                               dtype = {'fold':np.uint32 , 'classID':np.uint32})\n",
        "print(dataset_metadata)"
      ],
      "execution_count": 10,
      "outputs": [
        {
          "output_type": "stream",
          "text": [
            "      fold  classID         className\n",
            "0        5        3          dog_bark\n",
            "1        5        2  children_playing\n",
            "2        5        2  children_playing\n",
            "3        5        2  children_playing\n",
            "4        5        2  children_playing\n",
            "...    ...      ...               ...\n",
            "8727     7        1          car_horn\n",
            "8728     7        1          car_horn\n",
            "8729     7        1          car_horn\n",
            "8730     7        1          car_horn\n",
            "8731     7        1          car_horn\n",
            "\n",
            "[8732 rows x 3 columns]\n"
          ],
          "name": "stdout"
        }
      ]
    },
    {
      "cell_type": "markdown",
      "metadata": {
        "id": "j8oqAUMNGopQ"
      },
      "source": [
        "## Plot the distributions"
      ]
    },
    {
      "cell_type": "code",
      "metadata": {
        "colab": {
          "base_uri": "https://localhost:8080/",
          "height": 265
        },
        "id": "cwdygydcCxS6",
        "outputId": "e25f7a02-5eae-4d2b-fab8-91d4c3f05405"
      },
      "source": [
        "# How many audio samples for each fold\n",
        "\n",
        "fold_ax = dataset_metadata.fold.plot.hist(bins=19)"
      ],
      "execution_count": 19,
      "outputs": [
        {
          "output_type": "display_data",
          "data": {
            "image/png": "[encoded data removed]",
            "text/plain": [
              "<Figure size 432x288 with 1 Axes>"
            ]
          },
          "metadata": {
            "tags": [],
            "needs_background": "light"
          }
        }
      ]
    },
    {
      "cell_type": "code",
      "metadata": {
        "colab": {
          "base_uri": "https://localhost:8080/",
          "height": 265
        },
        "id": "yd8TDwS3HpYJ",
        "outputId": "1498c97e-fe87-4a54-8607-6c933c4ad8d1"
      },
      "source": [
        "# How many audio samples for each class\n",
        "\n",
        "classID_ax = dataset_metadata.classID.plot.hist(bins=19)"
      ],
      "execution_count": 21,
      "outputs": [
        {
          "output_type": "display_data",
          "data": {
            "image/png": "[encoded data removed]",
            "text/plain": [
              "<Figure size 432x288 with 1 Axes>"
            ]
          },
          "metadata": {
            "tags": [],
            "needs_background": "light"
          }
        }
      ]
    }
  ]
}